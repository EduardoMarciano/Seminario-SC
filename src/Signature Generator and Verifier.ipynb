{
  "cells": [
    {
      "cell_type": "markdown",
      "metadata": {
        "id": "5AlxcTj5DvRa"
      },
      "source": [
        "# Gerador e Verificador de Assinaturas Virtuais\n",
        "\n",
        "Geradores de assinaturas digitais são ferramentas as quais garantem a autenticidade e/ou a integridade de uma dada mensagem. Para isso, utiliza-se técnicas de criptografia, normalmente criptografia assimétrica, onde uma chave privada é empregada para assinar digitalmente um dado, e o hash da mensagem é incorporado na assinatura como uma forma de validação do conteúdo.\n",
        "\n",
        "Já verificadores de assinaturas são responsáveis por confirmar a autenticidade e/ou a integridade de uma assinatura digital. Considerando um cenário de criptografia assimétrica como o dado acima, o verificador utiliza a chave pública correspondente do emissor para decifrar a mensagem cifrada, caso a mensagem realmente seja do emissor declaro, o hash deste texto em claro deve ser correspondente ao hash enviado pelo o emissor.\n",
        "\n",
        "Assim, neste notebook iremos implementar um gerador e verificador de assinatura digitais de documentos, utilizando técnicas avançadas em segurança da computação. Para isso, o projeto consta com três módulos principais: geração de chaves,  encriptação e decriptação, assinatura e verificação.\n",
        "\n",
        "O primeiro módulo será responsável pela geração de chaves criptográficas com base no algoritmo RSA, onde essas chaves serão derivadas de números primos de 1024 bits. O segundo módulo dedica-se ao processo de encriptação e decriptação de mensagens utilizando o OAEP (Optimal Asymmetric Encryption Padding). O terceiro realiza o cálculo do hash da mensagem, formatação do resultado em BASE64 e sumariza a verificação de assinaturas digitais com um exemplo prático.\n"
      ]
    },
    {
      "cell_type": "markdown",
      "metadata": {
        "id": "pMmfCWthUb79"
      },
      "source": [
        "## Geração de Chaves\n",
        "\n",
        "Primeiramente começaremos nosso projeto com a parte mais crucial nos sistemas modernos de criptografia, a geração das chaves. As chaves são responsáveis por garantir a confidencialidade e a integridade de qualquer algoritmo de criptografia moderno, então é necessário uma alta atenção para se evitar qualquer tipo de padrão ou rastreabilidade em sua geração. Para isso, usaremos duas bibliotecas que irão nos trazer a aleatoriedade necessária para a geração das Chaves."
      ]
    },
    {
      "cell_type": "code",
      "execution_count": 1,
      "metadata": {},
      "outputs": [],
      "source": [
        "from random import getrandbits, randrange"
      ]
    },
    {
      "cell_type": "markdown",
      "metadata": {},
      "source": [
        "O algoritmo que será responsável pela encriptação e decriptação do nosso projeto será o algoritmo de criptografia assimétrica RSA, amplamente reconhecido por sua segurança e aplicabilidade em sistemas modernos de criptografia assimétrica. \n",
        "\n",
        "Dito isso, por ser assimétrico, iremos gerar duas chaves, uma pública e uma privada. A chave pública será composta por n=p×q,  onde \"p\" e \"q\" são números primos com no mínimo 1024 bits, e por \"e\", o qual será um número inteiro escolhido que satisfaça a propriedade 1< \"e\" < ϕ(n) e sendo coprimo de ϕ(n) = (p−1)×(q−1). Já a chave privada será representada pelo mesmo n da chave pública e por \"d\", calculado como \"d\"≡ \"e\"⁻¹ (mod  ϕ(n)), sendo \"d\" o inverso modular de \"e\" em relação a ϕ(n)."
      ]
    },
    {
      "cell_type": "markdown",
      "metadata": {},
      "source": [
        "Com isto, o primeiro passo será gerar os primos \"q\" e \"p\". Faremos isso usando o teste de primalidade de Miller–Rabin, o que nos retornará dois primos diferentes entre si com uma alta probabilidade."
      ]
    },
    {
      "cell_type": "code",
      "execution_count": 2,
      "metadata": {},
      "outputs": [],
      "source": [
        "def is_prime(n: int, k=128) -> bool:\n",
        "    \"\"\"Teste de primalidade usando o algoritmo de Miller-Rabin.\"\"\"\n",
        "    s = 0\n",
        "    r = n - 1\n",
        "    while r & 1 == 0:\n",
        "        s += 1\n",
        "        r //= 2\n",
        "\n",
        "    for _ in range(k):\n",
        "        a = randrange(2, n - 1)\n",
        "        x = pow(a, r, n)\n",
        "        if x != 1 and x != n - 1:\n",
        "            j = 1\n",
        "            while j < s and x != n - 1:\n",
        "                x = pow(x, 2, n)\n",
        "                if x == 1:\n",
        "                    return False\n",
        "                j += 1\n",
        "            if x != n - 1:\n",
        "                return False\n",
        "    return True\n",
        "\n",
        "def get_prime():\n",
        "    \"\"\"Gera um número primo de 1024 bits.\"\"\"\n",
        "    while True:\n",
        "        p = getrandbits(1024)\n",
        "        p |= 1\n",
        "        p |= 1 << 1023\n",
        "        if is_prime(p):\n",
        "            return p\n",
        "        \n",
        "p = get_prime()\n",
        "q = get_prime()\n",
        "\n",
        "while p == q:\n",
        "    q = get_prime()"
      ]
    },
    {
      "cell_type": "markdown",
      "metadata": {},
      "source": [
        "Com \"p\" e \"q\" gerados, iremos definir algumas funções auxiliares para calcularmos a operação mdc e os valores de \"n\" e \"phi\"."
      ]
    },
    {
      "cell_type": "code",
      "execution_count": 3,
      "metadata": {},
      "outputs": [],
      "source": [
        "def gcd(a, b):\n",
        "    \"\"\"Calcula o máximo divisor comum (GCD) usando o algoritmo de Euclides.\"\"\"\n",
        "    while b:\n",
        "        a, b = b, a % b\n",
        "    return a\n",
        "\n",
        "def get_n(p, q):\n",
        "    \"\"\"Calcula o valor de n = p * q.\"\"\"\n",
        "    return p * q\n",
        "\n",
        "def get_phi(p, q):\n",
        "    \"\"\"Calcula o valor de phi = (p - 1) * (q - 1).\"\"\"\n",
        "    return (p - 1) * (q - 1)\n",
        "\n",
        "n = get_n(p, q)\n",
        "phi = get_phi(p, q)"
      ]
    },
    {
      "cell_type": "markdown",
      "metadata": {},
      "source": [
        "Agora, iremos definir duas função que irão encapsular as equações de geração de \"e\" e \"d\""
      ]
    },
    {
      "cell_type": "code",
      "execution_count": 4,
      "metadata": {},
      "outputs": [],
      "source": [
        "def choose_e(phi):\n",
        "    \"\"\"Escolhe um valor de 'e' que seja coprimo a 'phi'.\"\"\"\n",
        "    e = 2\n",
        "    while e < phi and gcd(e, phi) != 1:\n",
        "        e += 1\n",
        "    return e\n",
        "\n",
        "def get_d(e, phi):\n",
        "    \"\"\"Encotra o inverso modular de 'e'.\"\"\"\n",
        "    return pow(e, -1, phi)\n",
        "\n",
        "e = choose_e(phi)\n",
        "d = get_d(e, phi)"
      ]
    },
    {
      "cell_type": "markdown",
      "metadata": {},
      "source": [
        "Pronto, com \"n\", \"phi\", \"e\" e \"d\" estamos prontos para gerarmos nossas chaves com a função generate_keys();"
      ]
    },
    {
      "cell_type": "code",
      "execution_count": 5,
      "metadata": {},
      "outputs": [
        {
          "name": "stdout",
          "output_type": "stream",
          "text": [
            "Chave Pública: (3, 12418159235744395374522398923482238371662939322768383989987790401138346197381443744610325072841616499225480444818971141803606150680079792329352452570005848963845403708484997023566736513791836296065532912990717293738924238483564165479179508291510699487855122285227547303125522674380177003463302328009252500351490741211180406923100605006957504050549954153672987426495018674284858139970058870378763938328798179546119344082458164315176928244635134408458275717354680752219695542158052829871675821932446062592970358365952188567813742355266419428000041942135788014627534377403965635942098639437365027581308343809056631570093).\n",
            " Chave privada: (8278772823829596916348265948988158914441959548512255993325193600758897464920962496406883381894410999483653629879314094535737433786719861552901635046670565975896935805656664682377824342527890864043688608660478195825949492322376110319453005527673799658570081523485031535417015116253451335642201552006168333567510817712692622744492567923038746852928874875126648234249572455352002719730776615776678822270271913118586522306197058641383588249177929139341135828533011128764492954594394130987053370819800455945352398015684463376269405763829646143585933678628530049314073340276425136440962686239313055152608298691184155552107, 12418159235744395374522398923482238371662939322768383989987790401138346197381443744610325072841616499225480444818971141803606150680079792329352452570005848963845403708484997023566736513791836296065532912990717293738924238483564165479179508291510699487855122285227547303125522674380177003463302328009252500351490741211180406923100605006957504050549954153672987426495018674284858139970058870378763938328798179546119344082458164315176928244635134408458275717354680752219695542158052829871675821932446062592970358365952188567813742355266419428000041942135788014627534377403965635942098639437365027581308343809056631570093)\n"
          ]
        }
      ],
      "source": [
        "def generate_keys(n, e, d):\n",
        "    \"\"\"Gera as chaves pública e privada.\"\"\"\n",
        "    public_key = (e, n)\n",
        "    private_key = (d, n)\n",
        "\n",
        "    return public_key, private_key\n",
        "\n",
        "pk, sk = generate_keys(n, e, d)\n",
        "\n",
        "print(f\"Chave Pública: {pk}.\\n Chave privada: {sk}\")"
      ]
    },
    {
      "cell_type": "markdown",
      "metadata": {
        "id": "8uw5uo4QhcSp"
      },
      "source": [
        "## Encriptação e Decriptação\n",
        "\n",
        "Agora, já em porte da chave pública e a privada, podemos avançar para o processo de encriptação e decriptação do algoritmo RSA. A encriptação será realizada com a chave privada (sk), seguindo a fórmula C = M^\"e\" mod n, onde \"M\" é a mensagem original, \"d\" é o expoente da chave privada e \"n\" é o produto dos números primos gerados. Já para a decriptação, utilizaremos a chave pública (pk), seguindo essa fórmula: M = C^\"d\", onde \"C\" é o texto cifrado e “e” é o expoente da chave pública."
      ]
    },
    {
      "cell_type": "markdown",
      "metadata": {},
      "source": [
        "### RSA\n",
        "\n",
        "Para encapsular a lógica dessas fórmulas, criaremos uma classe chamada RSA que irá gerenciar as operações de encriptação e decriptação. No método de inicialização da classe iremos passar as chaves pública e privada já definidas. "
      ]
    },
    {
      "cell_type": "code",
      "execution_count": 6,
      "metadata": {
        "id": "atnThetNqLqE"
      },
      "outputs": [],
      "source": [
        "class RSA:\n",
        "    def __init__(self):\n",
        "        self.public_key, self.private_key = pk, sk\n",
        "\n",
        "    def encrypt(self, message: int):\n",
        "        \"\"\"Criptografa uma mensagem usando a chave privada.\"\"\"\n",
        "        d, n = self.private_key\n",
        "        result = pow(message, d, n)\n",
        "        return str(result)\n",
        "\n",
        "    def decrypt(self, message: int):\n",
        "        \"\"\"Descriptografa uma mensagem usando a chave pública.\"\"\"\n",
        "        e, n = self.public_key\n",
        "        result = pow(message, e, n)\n",
        "        return str(result)"
      ]
    },
    {
      "cell_type": "markdown",
      "metadata": {},
      "source": [
        "### OAEP\n",
        "\n",
        "Mas, antes de aplicarmos diretamente o RSA na nossa mensagem a ser encriptada, primeiramente, iremos utilizar uma técnica de padding pseudo aleatória, OAEP (Optimal Asymmetric Encryption Padding), com o intuito de aumentar a segurança da nossa criptografia tornando mais difícil técnicas baseadas em análises matemáticas e/ou estruturais, as quais podem possuir alguma efetividade em mensagens com tamanho muito pequeno.\n",
        "\n",
        "O algoritmo funciona mesclando a mensagem original com um valor pseudo aleatório r de tamanho de 64 bytes, esse r servirá para gerarmos x e y que serão a base da nossa nova mensagem com seu padding. Já o algoritmo de  decriptação é determinismo, o qual realiza operações reversas para obter a mensagem original. Vale ressaltar que esse algoritmo isoladamente não traz segurança a mensagem, qualquer um que tenha acesso a cifra será capaz de fazer o processo reverso. No entanto, ele adiciona uma camada de aleatoriedade, dificultando inferências sobre o conteúdo da mensagem antes da descriptografia. Por isso, iremos implementá-lo a seguir encapsulando-o em um classe chamada OAEP."
      ]
    },
    {
      "cell_type": "code",
      "execution_count": 7,
      "metadata": {
        "id": "tbVufeCoqBrH"
      },
      "outputs": [],
      "source": [
        "from hashlib import sha3_512\n",
        "from os import urandom\n",
        "\n",
        "class OAEP:\n",
        "    k0 = 512\n",
        "    k1 = 256\n",
        "\n",
        "    def __init__(self):\n",
        "        self.x = None\n",
        "        self.y = None\n",
        "\n",
        "    def sha3_512(self, data: bytes) -> bytes:\n",
        "        \"\"\"Aplica SHA3-256 e retorna o hash como bytes.\"\"\"\n",
        "        return sha3_512(data).digest()\n",
        "\n",
        "    def encrypt(self, message: int) -> int:\n",
        "        \"\"\"Encriptação do algoritmo OAEP\"\"\"\n",
        "        r = urandom(64)\n",
        "        \n",
        "        message = message << self.k1\n",
        "        \n",
        "        x = message ^ int.from_bytes(self.sha3_512(r))\n",
        "        \n",
        "        y = int.from_bytes(r) ^ int.from_bytes(self.sha3_512(x.to_bytes(128)))\n",
        "        \n",
        "        return (x << self.k0) | y\n",
        "\n",
        "    def decrypt(self, ciphertext: int) -> int:\n",
        "        \"\"\"Decriptação do algoritmo OAEP\"\"\"\n",
        "        \n",
        "        y = ciphertext & ((1 << self.k0) - 1)\n",
        "        x = ciphertext >> self.k0\n",
        "\n",
        "        r = y ^ int.from_bytes(self.sha3_512(x.to_bytes(128)))\n",
        "\n",
        "        pm = x ^ int.from_bytes(self.sha3_512(r.to_bytes(self.k0 // 8)))\n",
        "\n",
        "        return pm >> self.k1"
      ]
    },
    {
      "cell_type": "markdown",
      "metadata": {
        "id": "R8VHDCRSf1Jr"
      },
      "source": [
        "## Assinatura, Transmissão e Verificação de Assinatura\n",
        "\n",
        "Agora que já temos ferramentas o suficiente para realizarmos a geração das chaves, encriptação e decriptação, iremos nos preocupar com questionamentos fundamentais na nossa aplicação: Como podemos assinar a mensagem? Como podemos transmitir essa mensagem de uma maneira adequada? Como podemos verificar nossa assinatura?"
      ]
    },
    {
      "cell_type": "markdown",
      "metadata": {
        "id": "EWo77-OPUgr_"
      },
      "source": [
        "### Assinatura\n",
        "\n",
        "Para assinarmos digitalmente nossa mensagem a ser transmitida, utilizaremos uma função hash, mais especificamente as funções SHA3-256 e SHA3-512. Uma função de hash é um algoritmo que dado uma entrada de dados de qualquer tamanho, sua saída será de tamanho fixo, a qual é chamada de hash. Utilizaremos essa função, pois ela possui a propriedade de que a computação reversa do hash para a mensagem original é extremamente custosa computacionalmente, propriedade da irreversibilidade. Ainda, uma função hash possui uma segunda propriedade de interesse para nós, a propriedade de  resistência à colisão, que define que o processo de descoberta de uma mensagem que gere um mesmo hash é extremamente caro computacionalmente.\n",
        "\n",
        "Assim, a nossa estratégia de assinatura será transmitir nossa mensagem e o seu hash, porém este hash estará criptografado pelo algoritmo RSA. Com isso, ao realizar a decriptação utilizando a chave pública do emissor, o receptor poderá fazer o hash da mensagem recebida e comparar com o hash  decriptado, e, caso eles sejam iguais, o emissor terá a garantia que a mensagem é realmente do seu emissor, já que apenas ele possui acesso a sua chave privada capaz de gerar a encriptação correta.\n",
        "\n",
        "Nesta parte do nosso projeto, utilizaremos a biblioteca “hashlib” para o desenvolvimento da nossa função Hash, sendo a única parte do nosso projeto que utilizará código de terceiros.\n",
        "\n",
        "\n",
        "#### Função Hash\n",
        "\n"
      ]
    },
    {
      "cell_type": "code",
      "execution_count": 8,
      "metadata": {
        "id": "WdXN9c9uSZWI"
      },
      "outputs": [],
      "source": [
        "from hashlib import sha3_512, sha3_256\n",
        "class sha3:\n",
        "  @staticmethod\n",
        "  def hash_512(message):\n",
        "    if type(message) == int:\n",
        "      message = str(message)\n",
        "    elif type(message) == str:\n",
        "      message = message.encode()\n",
        "    return int.from_bytes(sha3_512(message).digest())\n",
        "\n",
        "  @staticmethod\n",
        "  def hash_256(message):\n",
        "    if type(message) == int:\n",
        "      message = str(message)\n",
        "    elif type(message) == str:\n",
        "      message = message.encode()\n",
        "    return int.from_bytes(sha3_256(message).digest())"
      ]
    },
    {
      "cell_type": "markdown",
      "metadata": {},
      "source": [
        "### Transmissão\n",
        "\n",
        "Para a transmissão da nossa cifra e da menssagem, primeiramente, iremos converter a concatenação de ambas para o formato Base64. Isso será feito, pois a Base64 é uma forma de codificação que transforma dados binários em uma sequência de caracteres ASCII, o que normalmente é um formato mais adequado a transmissão de dados.\n",
        "\n",
        "Nossa implementação é um modelo simplificado da Base64, mas suficientemente robusto para o escopo deste projeto.\n",
        "\n",
        "#### BASE64\n",
        "\n"
      ]
    },
    {
      "cell_type": "code",
      "execution_count": 9,
      "metadata": {
        "id": "bCsYXNewV5EI"
      },
      "outputs": [],
      "source": [
        "class base_convert:\n",
        "\n",
        "  @staticmethod\n",
        "  def format(message: int):\n",
        "    base64_chars = \"ABCDEFGHIJKLMNOPQRSTUVWXYZabcdefghijklmnopqrstuvwxyz0123456789+/\"\n",
        "    res = \"\"\n",
        "    #Enquanto a mensagem não se tornar 0 realiza o método de divisões sucessivas\n",
        "    while message > 0:\n",
        "      remainder = message % 64\n",
        "      res = base64_chars[remainder] + res\n",
        "      message = message // 64\n",
        "    return res\n",
        "\n",
        "  @staticmethod\n",
        "  def parse(base64_message: str):\n",
        "    base64_chars = \"ABCDEFGHIJKLMNOPQRSTUVWXYZabcdefghijklmnopqrstuvwxyz0123456789+/\"\n",
        "    res = 0\n",
        "    # procura o caracter encontrado na string\n",
        "    for char in base64_message:\n",
        "      res = res * 64 + base64_chars.index(char)\n",
        "    return res"
      ]
    },
    {
      "cell_type": "markdown",
      "metadata": {},
      "source": [
        "### Verificação com Exemplo Prático\n",
        "\n",
        "\n",
        "Agora, finalmente partiremos para a demonstração do nosso projeto. Nesta demonstração, geramos o contéudo do nosso plain text utilizando o lorem ipsum, um gerador randômico de texto. O arquivo em si está disponível no diretório resources com nome \"input.txt\".\n",
        "\n",
        "O processo começa com a leitura do texto em formato binário, que é convertido diretamente em um valor numérico inteiro.  Em seguida, calculamos o hash da mensagem para criar uma representação única e compacta do texto. Após isso, utilizamos o padding OAEP sobre o hash da mensagem para adicionar segurança à encriptação. Com o hash preparado, realizamos a sua criptografia utilizando a chave privada do algoritmo RSA. Por fim, para realizarmos a transmissão, concatenamos a mensagem ao hash criptografado e, assim, colocamos o resultado da concatenação em Base64.\n",
        "\n",
        "Já o processo de verificação é o reverso no processo de assinatura. Primeiramente, desfazemos o formato Base64, separamos a mensagem do hash criptografado e realizamos a decriptação com a chave pública do emissor e retiramos o padding resultado do OAEP. Assim, ao final dessa série de processos, temos dois dados fundamentais, a mensagem e o hash do emissor, caso o hash do emissor seja compatível com o hash da mensagem, realmente essa mensagem é do emissor declarado, garantindo assim confiabilidade a origem dessa mensagem, caso não seja, concluímos que ou o hash ou a mensagem foram interceptadas e trocadas durante a nossa transmissão, logo, ambas devem ser invalidadas e descartadas.\n"
      ]
    },
    {
      "cell_type": "code",
      "execution_count": 10,
      "metadata": {
        "colab": {
          "base_uri": "https://localhost:8080/"
        },
        "id": "hiaLDst-aMM1",
        "outputId": "17610db2-bc4c-4b64-f72d-79412e1e83f1"
      },
      "outputs": [
        {
          "name": "stdout",
          "output_type": "stream",
          "text": [
            "Mensagem codificada em base64: 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\n",
            "Hash da mensagem: 101559824801157566481275910591436486590799948262884771044134935815408357614456\n",
            "Hash decodificado: 101559824801157566481275910591436486590799948262884771044134935815408357614456\n",
            "Verificação de assinatura: True\n"
          ]
        }
      ],
      "source": [
        "# Instanciação da classe RSA\n",
        "cy = RSA()\n",
        "oaep = OAEP()\n",
        "\n",
        "f = open('../resources/input.txt', 'rb')\n",
        "plain_text = f.read()\n",
        "f.close()\n",
        "\n",
        "plain_text = str(int.from_bytes(plain_text))\n",
        "\n",
        "# Calculo do hash 256 da mensagem\n",
        "h = sha3.hash_256(plain_text)\n",
        "\n",
        "# Encryptação desse hash\n",
        "e = oaep.encrypt(h)\n",
        "e = cy.encrypt(e)\n",
        "\n",
        "# Concatenação entre plain_text e o hash encriptado\n",
        "message_to_encode = plain_text + str(e)\n",
        "\n",
        "# Conversão para a Base64\n",
        "encoded_message = base_convert.format(int(message_to_encode))\n",
        "\n",
        "print(\"Mensagem codificada em base64:\", encoded_message)\n",
        "\n",
        "# Parse da base64\n",
        "decoded_message = str(base_convert.parse(encoded_message))\n",
        "\n",
        "# Separação entre o plain_text e o hash encriptado\n",
        "decoded_plain_text = decoded_message[:len(plain_text)]\n",
        "decoded_plain_text_hash = sha3.hash_256(decoded_plain_text)\n",
        "\n",
        "encrypted_hash = decoded_message[len(plain_text):]\n",
        "\n",
        "# Decryptação do hash encriptado\n",
        "decrypted_hash = cy.decrypt(int(encrypted_hash))\n",
        "decrypted_hash = oaep.decrypt(int(decrypted_hash))\n",
        "\n",
        "# Comparação entre os hashs para verificação da assinatura\n",
        "print(\"Hash da mensagem:\", decoded_plain_text_hash)\n",
        "print(\"Hash decodificado:\", decrypted_hash)\n",
        "print(\"Verificação de assinatura:\", decrypted_hash == decoded_plain_text_hash)"
      ]
    },
    {
      "cell_type": "markdown",
      "metadata": {},
      "source": [
        "Caso todos os passos tenham sido corretamente executados em sua devida ordem, a verificação da assinatura terá sido validada com a mensagem: \"Verificação de assinatura: True\". Caso não, execute novamente todos os blocos desse notebook em sua devida ordem.\n",
        "\n",
        "Com isto, teremos efetivamente construído um software capaz de gerar assinaturas digitais, transmiti-las e verificá-las."
      ]
    },
    {
      "cell_type": "markdown",
      "metadata": {},
      "source": [
        "## Repositório e Slides Da Apresentação\n",
        "\n",
        "Para mais informações sobre a implementação, confira o repositório em: https://github.com/EduardoMarciano/Seminario-SC\n",
        "\n",
        "Para mais informações sobre a apresentação, confira os slides em: https://www.canva.com/design/DAGd5pQ5obo/k4p1LVSKr-lb5PC8-SkCqw/view"
      ]
    }
  ],
  "metadata": {
    "colab": {
      "collapsed_sections": [
        "pMmfCWthUb79",
        "EWo77-OPUgr_",
        "wVQV9v5AqKGM",
        "gPLTa-VJp--V",
        "z34lxvA7V6N9"
      ],
      "provenance": [],
      "toc_visible": true
    },
    "kernelspec": {
      "display_name": ".venv",
      "language": "python",
      "name": "python3"
    },
    "language_info": {
      "codemirror_mode": {
        "name": "ipython",
        "version": 3
      },
      "file_extension": ".py",
      "mimetype": "text/x-python",
      "name": "python",
      "nbconvert_exporter": "python",
      "pygments_lexer": "ipython3",
      "version": "3.11.2"
    }
  },
  "nbformat": 4,
  "nbformat_minor": 0
}
