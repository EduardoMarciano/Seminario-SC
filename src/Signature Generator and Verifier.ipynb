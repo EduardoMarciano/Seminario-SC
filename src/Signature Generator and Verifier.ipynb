{
  "cells": [
    {
      "cell_type": "markdown",
      "metadata": {
        "id": "5AlxcTj5DvRa"
      },
      "source": [
        "# Gerador e Verificador de Assinaturas Virtuais\n",
        "\n",
        "Geradores de assinaturas digitais são ferramentas as quais garantem a autenticidade e/ou a integridade de uma dada mensagem. Para isso, utiliza-se técnicas de criptografia, normalmente criptografia assimétrica, onde uma chave privada é empregada para assinar digitalmente um dado, e o hash da mensagem é incorporado na assinatura como uma forma de validação do conteúdo.\n",
        "\n",
        "Já verificadores de assinaturas são responsáveis por confirmar a autenticidade e/ou a integridade de uma assinatura digital. Considerando um cenário de criptografia assimétrica como o dado acima, o verificador utiliza a chave pública correspondente do emissor para decifrar a mensagem cifrada, caso a mensagem realmente seja do emissor declaro, o hash deste texto em claro deve ser correspondente ao hash enviado pelo o emissor.\n",
        "\n",
        "Assim, neste notebook iremos implementar um gerador e verificador de assinatura digitais de documentos, utilizando técnicas avançadas em segurança da computação. Para isso, o projeto consta com três módulos principais: geração de chaves,  encriptação e decriptação, assinatura e verificação.\n",
        "\n",
        "O primeiro módulo será responsável pela geração de chaves criptográficas com base no algoritmo RSA, onde essas chaves serão derivadas de números primos de 1024 bits. O segundo módulo dedica-se ao processo de encriptação e decriptação de mensagens utilizando o OAEP (Optimal Asymmetric Encryption Padding). O terceiro realiza o cálculo do hash da mensagem, formatação do resultado em BASE64 e sumariza a verificação de assinaturas digitais com um exemplo prático.\n"
      ]
    },
    {
      "cell_type": "markdown",
      "metadata": {
        "id": "pMmfCWthUb79"
      },
      "source": [
        "## Geração de Chaves\n",
        "\n",
        "Primeiramente começaremos nosso projeto com a parte mais crucial nos sistemas modernos de criptografia, a geração das chaves. As chaves são responsáveis por garantir a confidencialidade e a integridade de qualquer algoritmo de criptografia moderno, então é necessário uma alta atenção para se evitar qualquer tipo de padrão ou rastreabilidade em sua geração. Para isso, usaremos duas bibliotecas que irão nos trazer a aleatoriedade necessária para a geração das Chaves."
      ]
    },
    {
      "cell_type": "code",
      "execution_count": 11,
      "metadata": {},
      "outputs": [],
      "source": [
        "from random import getrandbits, randrange"
      ]
    },
    {
      "cell_type": "markdown",
      "metadata": {},
      "source": [
        "O algoritmo que será responsável pela encriptação e decriptação do nosso projeto será o algoritmo de criptografia assimétrica RSA, amplamente reconhecido por sua segurança e aplicabilidade em sistemas modernos de criptografia assimétrica. \n",
        "\n",
        "Dito isso, por ser assimétrico, iremos gerar duas chaves, uma pública e uma privada. A chave pública será composta por n=p×q,  onde \"p\" e \"q\" são números primos com no mínimo 1024 bits, e por \"e\", o qual será um número inteiro escolhido que satisfaça a propriedade 1< \"e\" < ϕ(n) e sendo coprimo de ϕ(n) = (p−1)×(q−1). Já a chave privada será representada pelo mesmo n da chave pública e por \"d\", calculado como \"d\"≡ \"e\"⁻¹ (mod  ϕ(n)), sendo \"d\" o inverso modular de \"e\" em relação a ϕ(n)."
      ]
    },
    {
      "cell_type": "markdown",
      "metadata": {},
      "source": [
        "Com isto, o primeiro passo será gerar os primos \"q\" e \"p\". Faremos isso usando o teste de primalidade de Miller–Rabin, o que nos retornará dois primos diferentes entre si com uma alta probabilidade."
      ]
    },
    {
      "cell_type": "code",
      "execution_count": 12,
      "metadata": {},
      "outputs": [],
      "source": [
        "def is_prime(n: int, k=128) -> bool:\n",
        "    \"\"\"Teste de primalidade usando o algoritmo de Miller-Rabin.\"\"\"\n",
        "    s = 0\n",
        "    r = n - 1\n",
        "    while r & 1 == 0:\n",
        "        s += 1\n",
        "        r //= 2\n",
        "\n",
        "    for _ in range(k):\n",
        "        a = randrange(2, n - 1)\n",
        "        x = pow(a, r, n)\n",
        "        if x != 1 and x != n - 1:\n",
        "            j = 1\n",
        "            while j < s and x != n - 1:\n",
        "                x = pow(x, 2, n)\n",
        "                if x == 1:\n",
        "                    return False\n",
        "                j += 1\n",
        "            if x != n - 1:\n",
        "                return False\n",
        "    return True\n",
        "\n",
        "def get_prime():\n",
        "    \"\"\"Gera um número primo de 1024 bits.\"\"\"\n",
        "    while True:\n",
        "        p = getrandbits(1024)\n",
        "        p |= 1\n",
        "        p |= 1 << 1023\n",
        "        if is_prime(p):\n",
        "            return p\n",
        "        \n",
        "p = get_prime()\n",
        "q = get_prime()\n",
        "\n",
        "while p == q:\n",
        "    q = get_prime()"
      ]
    },
    {
      "cell_type": "markdown",
      "metadata": {},
      "source": [
        "Com \"p\" e \"q\" gerados, iremos definir algumas funções auxiliares para calcularmos a operação mdc e os valores de \"n\" e \"phi\"."
      ]
    },
    {
      "cell_type": "code",
      "execution_count": 13,
      "metadata": {},
      "outputs": [],
      "source": [
        "def gcd(a, b):\n",
        "    \"\"\"Calcula o máximo divisor comum (GCD) usando o algoritmo de Euclides.\"\"\"\n",
        "    while b:\n",
        "        a, b = b, a % b\n",
        "    return a\n",
        "\n",
        "def get_n(p, q):\n",
        "    \"\"\"Calcula o valor de n = p * q.\"\"\"\n",
        "    return p * q\n",
        "\n",
        "def get_phi(p, q):\n",
        "    \"\"\"Calcula o valor de phi = (p - 1) * (q - 1).\"\"\"\n",
        "    return (p - 1) * (q - 1)\n",
        "\n",
        "n = get_n(p, q)\n",
        "phi = get_phi(p, q)"
      ]
    },
    {
      "cell_type": "markdown",
      "metadata": {},
      "source": [
        "Agora, iremos definir duas função que irão encapsular as equações de geração de \"e\" e \"d\""
      ]
    },
    {
      "cell_type": "code",
      "execution_count": 14,
      "metadata": {},
      "outputs": [],
      "source": [
        "def choose_e(phi):\n",
        "    \"\"\"Escolhe um valor de 'e' que seja coprimo a 'phi'.\"\"\"\n",
        "    e = 2\n",
        "    while e < phi and gcd(e, phi) != 1:\n",
        "        e += 1\n",
        "    return e\n",
        "\n",
        "def get_d(e, phi):\n",
        "    \"\"\"Encotra o inverso modular de 'e'.\"\"\"\n",
        "    return pow(e, -1, phi)\n",
        "\n",
        "e = choose_e(phi)\n",
        "d = get_d(e, phi)"
      ]
    },
    {
      "cell_type": "markdown",
      "metadata": {},
      "source": [
        "Pronto, com \"n\", \"phi\", \"e\" e \"d\" estamos prontos para gerarmos nossas chaves com a função generate_keys();"
      ]
    },
    {
      "cell_type": "code",
      "execution_count": 15,
      "metadata": {},
      "outputs": [
        {
          "name": "stdout",
          "output_type": "stream",
          "text": [
            "Chave Pública: (5, 19576164605394800913091553622346188282668500169097782734914191681502843083079907719855666916948124681051581402067714099710158901862529820949092396994605771487913841214275339920675224204452306174437693209916053167229307326845779529722032602966380248578016031548222375144180106599817435851863446273175615315180283636804134292717660824436505366835041560310874415008915950926090583476677958942898145111882123471936956751126025333806068082301222549515261358654272976062560962182491144261874106520555017567283058100015195145939323331832555653183134716504729118506803618513777185942488821247087107760267622968598001351955273).\n",
            " Chave privada: (11745698763236880547854932173407712969601100101458669640948515008901705849847944631913400150168874808630948841240628459826095341117517892569455438196763462892748304728565203952405134522671383704662615925949631900337584396107467717833219561779828149146809618928933425086508063959890461511118067763905369189107997419630211770075044184389433121891243926722773566100825273413961459993316648223984285540902537861451964678324405450000585627193138273548041023848663864602553183148317385359963673435891804652368777906116691398849534934653293007132118481999305330988053915957260313485739800104343658088473872478518087340512461, 19576164605394800913091553622346188282668500169097782734914191681502843083079907719855666916948124681051581402067714099710158901862529820949092396994605771487913841214275339920675224204452306174437693209916053167229307326845779529722032602966380248578016031548222375144180106599817435851863446273175615315180283636804134292717660824436505366835041560310874415008915950926090583476677958942898145111882123471936956751126025333806068082301222549515261358654272976062560962182491144261874106520555017567283058100015195145939323331832555653183134716504729118506803618513777185942488821247087107760267622968598001351955273)\n"
          ]
        }
      ],
      "source": [
        "def generate_keys(n, e, d):\n",
        "    \"\"\"Gera as chaves pública e privada.\"\"\"\n",
        "    public_key = (e, n)\n",
        "    private_key = (d, n)\n",
        "\n",
        "    return public_key, private_key\n",
        "\n",
        "pk, sk = generate_keys(n, e, d)\n",
        "\n",
        "print(f\"Chave Pública: {pk}.\\n Chave privada: {sk}\")"
      ]
    },
    {
      "cell_type": "markdown",
      "metadata": {
        "id": "8uw5uo4QhcSp"
      },
      "source": [
        "## Encriptação e Decriptação\n",
        "\n",
        "Agora, já em porte da chave pública e a privada, podemos avançar para o processo de encriptação e decriptação do algoritmo RSA. A encriptação será realizada com a chave privada (sk), seguindo a fórmula C = M^\"e\" mod n, onde \"M\" é a mensagem original, \"d\" é o expoente da chave privada e \"n\" é o produto dos números primos gerados. Já para a decriptação, utilizaremos a chave pública (pk), seguindo essa fórmula: M = C^\"d\", onde \"C\" é o texto cifrado e “e” é o expoente da chave pública."
      ]
    },
    {
      "cell_type": "markdown",
      "metadata": {},
      "source": [
        "### RSA\n",
        "\n",
        "Para encapsular a lógica dessas fórmulas, criaremos uma classe chamada RSA que irá gerenciar as operações de encriptação e decriptação. No método de inicialização da classe iremos passar as chaves pública e privada já definidas. "
      ]
    },
    {
      "cell_type": "code",
      "execution_count": 16,
      "metadata": {
        "id": "atnThetNqLqE"
      },
      "outputs": [],
      "source": [
        "class RSA:\n",
        "    def __init__(self):\n",
        "        self.public_key, self.private_key = pk, sk\n",
        "\n",
        "    def encrypt(self, message: int):\n",
        "        \"\"\"Criptografa uma mensagem usando a chave privada.\"\"\"\n",
        "        d, n = self.private_key\n",
        "        result = pow(message, d, n)\n",
        "        return str(result)\n",
        "\n",
        "    def decrypt(self, message: int):\n",
        "        \"\"\"Descriptografa uma mensagem usando a chave pública.\"\"\"\n",
        "        e, n = self.public_key\n",
        "        result = pow(message, e, n)\n",
        "        return str(result)"
      ]
    },
    {
      "cell_type": "markdown",
      "metadata": {},
      "source": [
        "### OAEP\n",
        "\n",
        "Mas, antes de aplicarmos diretamente o RSA na nossa mensagem a ser encriptada, primeiramente, iremos utilizar uma técnica de padding pseudo aleatória, OAEP (Optimal Asymmetric Encryption Padding), com o intuito de aumentar a segurança da nossa criptografia tornando mais difícil técnicas baseadas em análises matemáticas e/ou estruturais, as quais podem possuir alguma efetividade em mensagens com tamanho muito pequeno.\n",
        "\n",
        "O algoritmo funciona mesclando a mensagem original com um valor pseudo aleatório r de tamanho de 64 bytes, esse r servirá para gerarmos x e y que serão a base da nossa nova mensagem com seu padding. Já o algoritmo de  decriptação é determinismo, o qual realiza operações reversas para obter a mensagem original. Vale ressaltar que esse algoritmo isoladamente não traz segurança a mensagem, qualquer um que tenha acesso a cifra será capaz de fazer o processo reverso. No entanto, ele adiciona uma camada de aleatoriedade, dificultando inferências sobre o conteúdo da mensagem antes da descriptografia. Por isso, iremos implementá-lo a seguir encapsulando-o em um classe chamada OAEP."
      ]
    },
    {
      "cell_type": "code",
      "execution_count": 17,
      "metadata": {
        "id": "tbVufeCoqBrH"
      },
      "outputs": [],
      "source": [
        "from hashlib import sha3_512\n",
        "from os import urandom\n",
        "\n",
        "class OAEP:\n",
        "    k0 = 512\n",
        "    k1 = 256\n",
        "\n",
        "    def __init__(self):\n",
        "        self.x = None\n",
        "        self.y = None\n",
        "\n",
        "    def sha3_512(self, data: bytes) -> bytes:\n",
        "        \"\"\"Aplica SHA3-256 e retorna o hash como bytes.\"\"\"\n",
        "        return sha3_512(data).digest()\n",
        "\n",
        "    def encrypt(self, message: int) -> int:\n",
        "        \"\"\"Encriptação do algoritmo OAEP\"\"\"\n",
        "        r = urandom(64)\n",
        "        \n",
        "        message = message << self.k1\n",
        "        \n",
        "        x = message ^ int.from_bytes(self.sha3_512(r))\n",
        "        \n",
        "        y = int.from_bytes(r) ^ int.from_bytes(self.sha3_512(x.to_bytes(128)))\n",
        "        \n",
        "        return (x << self.k0) | y\n",
        "\n",
        "    def decrypt(self, ciphertext: int) -> int:\n",
        "        \"\"\"Decriptação do algoritmo OAEP\"\"\"\n",
        "        \n",
        "        y = ciphertext & ((1 << self.k0) - 1)\n",
        "        x = ciphertext >> self.k0\n",
        "\n",
        "        r = y ^ int.from_bytes(self.sha3_512(x.to_bytes(128)))\n",
        "\n",
        "        pm = x ^ int.from_bytes(self.sha3_512(r.to_bytes(self.k0 // 8)))\n",
        "\n",
        "        return pm >> self.k1"
      ]
    },
    {
      "cell_type": "markdown",
      "metadata": {
        "id": "R8VHDCRSf1Jr"
      },
      "source": [
        "## Assinatura, Transmissão e Verificação de Assinatura\n",
        "\n",
        "Agora que já temos ferramentas o suficiente para realizarmos a geração das chaves, encriptação e decriptação, iremos nos preocupar com questionamentos fundamentais na nossa aplicação: Como podemos assinar a mensagem? Como podemos transmitir essa mensagem de uma maneira adequada? Como podemos verificar nossa assinatura?"
      ]
    },
    {
      "cell_type": "markdown",
      "metadata": {
        "id": "EWo77-OPUgr_"
      },
      "source": [
        "### Assinatura\n",
        "\n",
        "Para assinarmos digitalmente nossa mensagem a ser transmitida, utilizaremos uma função hash, mais especificamente as funções SHA3-256 e SHA3-512. Uma função de hash é um algoritmo que dado uma entrada de dados de qualquer tamanho, sua saída será de tamanho fixo, a qual é chamada de hash. Utilizaremos essa função, pois ela possui a propriedade de que a computação reversa do hash para a mensagem original é extremamente custosa computacionalmente, propriedade da irreversibilidade. Ainda, uma função hash possui uma segunda propriedade de interesse para nós, a propriedade de  resistência à colisão, que define que o processo de descoberta de uma mensagem que gere um mesmo hash é extremamente caro computacionalmente.\n",
        "\n",
        "Assim, a nossa estratégia de assinatura será transmitir nossa mensagem e o seu hash, porém este hash estará criptografado pelo algoritmo RSA. Com isso, ao realizar a decriptação utilizando a chave pública do emissor, o receptor poderá fazer o hash da mensagem recebida e comparar com o hash  decriptado, e, caso eles sejam iguais, o emissor terá a garantia que a mensagem é realmente do seu emissor, já que apenas ele possui acesso a sua chave privada capaz de gerar a encriptação correta.\n",
        "\n",
        "Nesta parte do nosso projeto, utilizaremos a biblioteca “hashlib” para o desenvolvimento da nossa função Hash, sendo a única parte do nosso projeto que utilizará código de terceiros.\n",
        "\n",
        "\n",
        "#### Função Hash\n",
        "\n"
      ]
    },
    {
      "cell_type": "code",
      "execution_count": 18,
      "metadata": {
        "id": "WdXN9c9uSZWI"
      },
      "outputs": [],
      "source": [
        "from hashlib import sha3_512, sha3_256\n",
        "class sha3:\n",
        "  @staticmethod\n",
        "  def hash_512(message):\n",
        "    if type(message) == int:\n",
        "      message = str(message)\n",
        "    elif type(message) == str:\n",
        "      message = message.encode()\n",
        "    return int.from_bytes(sha3_512(message).digest())\n",
        "\n",
        "  @staticmethod\n",
        "  def hash_256(message):\n",
        "    if type(message) == int:\n",
        "      message = str(message)\n",
        "    elif type(message) == str:\n",
        "      message = message.encode()\n",
        "    return int.from_bytes(sha3_256(message).digest())"
      ]
    },
    {
      "cell_type": "markdown",
      "metadata": {},
      "source": [
        "### Transmissão\n",
        "\n",
        "Para a transmissão da nossa cifra e da menssagem, primeiramente, iremos converter a concatenação de ambas para o formato Base64. Isso será feito, pois a Base64 é uma forma de codificação que transforma dados binários em uma sequência de caracteres ASCII, o que normalmente é um formato mais adequado a transmissão de dados.\n",
        "\n",
        "Nossa implementação é um modelo simplificado da Base64, mas suficientemente robusto para o escopo deste projeto.\n",
        "\n",
        "#### BASE64\n",
        "\n"
      ]
    },
    {
      "cell_type": "code",
      "execution_count": 19,
      "metadata": {
        "id": "bCsYXNewV5EI"
      },
      "outputs": [],
      "source": [
        "class base_convert:\n",
        "\n",
        "  @staticmethod\n",
        "  def format(message: int):\n",
        "    base64_chars = \"ABCDEFGHIJKLMNOPQRSTUVWXYZabcdefghijklmnopqrstuvwxyz0123456789+/\"\n",
        "    res = \"\"\n",
        "    #Enquanto a mensagem não se tornar 0 realiza o método de divisões sucessivas\n",
        "    while message > 0:\n",
        "      remainder = message % 64\n",
        "      res = base64_chars[remainder] + res\n",
        "      message = message // 64\n",
        "    return res\n",
        "\n",
        "  @staticmethod\n",
        "  def parse(base64_message: str):\n",
        "    base64_chars = \"ABCDEFGHIJKLMNOPQRSTUVWXYZabcdefghijklmnopqrstuvwxyz0123456789+/\"\n",
        "    res = 0\n",
        "    # procura o caracter encontrado na string\n",
        "    for char in base64_message:\n",
        "      res = res * 64 + base64_chars.index(char)\n",
        "    return res"
      ]
    },
    {
      "cell_type": "markdown",
      "metadata": {},
      "source": [
        "### Verificação com Exemplo Prático\n",
        "\n",
        "\n",
        "Agora, finalmente partiremos para a demonstração do nosso projeto. Nesta demonstração, geramos o contéudo do nosso plain text utilizando o lorem ipsum, um gerador randômico de texto. O arquivo em si está disponível no diretório resources com nome \"input.txt\".\n",
        "\n",
        "O processo começa com a leitura do texto em formato binário, que é convertido diretamente em um valor numérico inteiro.  Em seguida, calculamos o hash da mensagem para criar uma representação única e compacta do texto. Após isso, utilizamos o padding OAEP sobre o hash da mensagem para adicionar segurança à encriptação. Com o hash preparado, realizamos a sua criptografia utilizando a chave privada do algoritmo RSA. Por fim, para realizarmos a transmissão, concatenamos a mensagem ao hash criptografado e, assim, colocamos o resultado da concatenação em Base64.\n",
        "\n",
        "Já o processo de verificação é o reverso no processo de assinatura. Primeiramente, desfazemos o formato Base64, separamos a mensagem do hash criptografado e realizamos a decriptação com a chave pública do emissor e retiramos o padding resultado do OAEP. Assim, ao final dessa série de processos, temos dois dados fundamentais, a mensagem e o hash do emissor, caso o hash do emissor seja compatível com o hash da mensagem, realmente essa mensagem é do emissor declarado, garantindo assim confiabilidade a origem dessa mensagem, caso não seja, concluímos que ou o hash ou a mensagem foram interceptadas e trocadas durante a nossa transmissão, logo, ambas devem ser invalidadas e descartadas.\n"
      ]
    },
    {
      "cell_type": "code",
      "execution_count": 20,
      "metadata": {
        "colab": {
          "base_uri": "https://localhost:8080/"
        },
        "id": "hiaLDst-aMM1",
        "outputId": "17610db2-bc4c-4b64-f72d-79412e1e83f1"
      },
      "outputs": [
        {
          "name": "stdout",
          "output_type": "stream",
          "text": [
            "Mensagem codificada em base64: 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\n",
            "Hash da mensagem: 101559824801157566481275910591436486590799948262884771044134935815408357614456\n",
            "Hash decodificado: 101559824801157566481275910591436486590799948262884771044134935815408357614456\n",
            "Verificação de assinatura: True\n"
          ]
        }
      ],
      "source": [
        "# Instanciação da classe RSA\n",
        "cy = RSA()\n",
        "oaep = OAEP()\n",
        "\n",
        "f = open('../resources/input.txt', 'rb')\n",
        "plain_text = f.read()\n",
        "f.close()\n",
        "\n",
        "plain_text = str(int.from_bytes(plain_text))\n",
        "\n",
        "# Calculo do hash 256 da mensagem\n",
        "h = sha3.hash_256(plain_text)\n",
        "\n",
        "# Encryptação desse hash\n",
        "e = oaep.encrypt(h)\n",
        "e = cy.encrypt(e)\n",
        "\n",
        "# Concatenação entre plain_text e o hash encriptado\n",
        "message_to_encode = plain_text + str(e)\n",
        "\n",
        "# Conversão para a Base64\n",
        "encoded_message = base_convert.format(int(message_to_encode))\n",
        "\n",
        "print(\"Mensagem codificada em base64:\", encoded_message)\n",
        "\n",
        "# Parse da base64\n",
        "decoded_message = str(base_convert.parse(encoded_message))\n",
        "\n",
        "# Separação entre o plain_text e o hash encriptado\n",
        "decoded_plain_text = decoded_message[:len(plain_text)]\n",
        "decoded_plain_text_hash = sha3.hash_256(decoded_plain_text)\n",
        "\n",
        "encrypted_hash = decoded_message[len(plain_text):]\n",
        "\n",
        "# Decryptação do hash encriptado\n",
        "decrypted_hash = cy.decrypt(int(encrypted_hash))\n",
        "decrypted_hash = oaep.decrypt(int(decrypted_hash))\n",
        "\n",
        "# Comparação entre os hashs para verificação da assinatura\n",
        "print(\"Hash da mensagem:\", decoded_plain_text_hash)\n",
        "print(\"Hash decodificado:\", decrypted_hash)\n",
        "print(\"Verificação de assinatura:\", decrypted_hash == decoded_plain_text_hash)"
      ]
    },
    {
      "cell_type": "markdown",
      "metadata": {},
      "source": [
        "Caso todos os passos tenham sido corretamente executados em sua devida ordem, a verificação da assinatura terá sido validada com a mensagem: \"Verificação de assinatura: True\". Caso não, execute novamente todos os blocos desse notebook em sua devida ordem.\n",
        "\n",
        "Com isto, teremos efetivamente construído um software capaz de gerar assinaturas digitais, transmiti-las e verificá-las."
      ]
    }
  ],
  "metadata": {
    "colab": {
      "collapsed_sections": [
        "pMmfCWthUb79",
        "EWo77-OPUgr_",
        "wVQV9v5AqKGM",
        "gPLTa-VJp--V",
        "z34lxvA7V6N9"
      ],
      "provenance": [],
      "toc_visible": true
    },
    "kernelspec": {
      "display_name": ".venv",
      "language": "python",
      "name": "python3"
    },
    "language_info": {
      "codemirror_mode": {
        "name": "ipython",
        "version": 3
      },
      "file_extension": ".py",
      "mimetype": "text/x-python",
      "name": "python",
      "nbconvert_exporter": "python",
      "pygments_lexer": "ipython3",
      "version": "3.11.2"
    }
  },
  "nbformat": 4,
  "nbformat_minor": 0
}
