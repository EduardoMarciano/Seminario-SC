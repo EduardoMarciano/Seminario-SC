{
  "cells": [
    {
      "cell_type": "markdown",
      "metadata": {
        "id": "5AlxcTj5DvRa"
      },
      "source": [
        "# Gerador e Verificador de Assinaturas Virtuais\n",
        "\n",
        "Geradores de assinaturas digitais são ferramentas as quais garantem a autenticidade e/ou a integridade de uma dada mensagem. Para isso, utiliza-se técnicas de criptografia, normalmente criptografia assimétrica, onde uma chave privada é empregada para assinar digitalmente um dado, e o hash da mensagem é incorporado na assinatura como uma forma de validação do conteúdo.\n",
        "\n",
        "Já verificadores de assinaturas são responsáveis por confirmar a autenticidade e/ou a integridade de uma assinatura digital. Considerando um cenário de criptografia assimétrica como o dado acima, o verificador utiliza a chave pública correspondente do emissor para decifrar a mensagem cifrada, caso a mensagem realmente seja do emissor declaro, o hash deste texto em claro deve ser correspondente ao hash enviado pelo o emissor.\n",
        "\n",
        "Assim, neste notebook iremos implementar um gerador e verificador de assinatura digitais de documentos, utilizando técnicas avançadas em segurança da computação. Para isso, o projeto consta com três módulos principais: geração de chaves,  encriptação e decriptação, assinatura e verificação.\n",
        "\n",
        "O primeiro módulo será responsável pela geração de chaves criptográficas com base no algoritmo RSA, onde essas chaves serão derivadas de números primos de 1024 bits. O segundo módulo dedica-se ao processo de encriptação e decriptação de mensagens utilizando o OAEP (Optimal Asymmetric Encryption Padding). O terceiro realiza o cálculo do hash da mensagem e formatação do resultado em BASE64. Por fim, o quarto módulo sumariza a verificação de assinaturas digitais com um exemplo prático.\n"
      ]
    },
    {
      "cell_type": "markdown",
      "metadata": {
        "id": "pMmfCWthUb79"
      },
      "source": [
        "## Geração de Chaves\n",
        "\n",
        "Primeiramente começaremos nosso projeto com a parte mais crucial nos sistemas modernos de criptografia, a geração das chaves. As chaves são responsáveis por garantir a confidencialidade e a integridade de qualquer algoritmo de criptografia moderno, então é necessário uma alta atenção para se evitar qualquer tipo de padrão ou rastreabilidade em sua geração. Para isso, usaremos duas bibliotecas que irão nos trazer a aleatoriedade necessária para a geração das Chaves."
      ]
    },
    {
      "cell_type": "code",
      "execution_count": 41,
      "metadata": {},
      "outputs": [],
      "source": [
        "from random import getrandbits, randrange"
      ]
    },
    {
      "cell_type": "markdown",
      "metadata": {},
      "source": [
        "O algoritmo que será responsável pela encriptação e decriptação do nosso projeto será o algoritmo de criptografia assimétrica RSA, amplamente reconhecido por sua segurança e aplicabilidade em sistemas modernos de criptografia assimétrica. \n",
        "\n",
        "Dito isso, por ser assimétrico, iremos gerar duas chaves, uma pública e uma privada. A chave pública será composta por n=p×q,  onde p e q são números primos com no mínimo 1024 bits e por \"e\", o qual será um número inteiro escolhido que satisfaça a propriedade 1< \"e\" < ϕ(n) e sendo coprimo de ϕ(n) = (p−1)×(q−1). Já a chave privada será representada por \"d\", calculado como \"d\"≡ \"e\"⁻¹ (mod  ϕ(n)), sendo \"d\" o inverso modular de \"e\" em relação a ϕ(n)."
      ]
    },
    {
      "cell_type": "markdown",
      "metadata": {},
      "source": [
        "Com isto, o primeiro passo será gerar os primos q e p. Faremos isso usando o teste de primalidade de Miller–Rabin, o que nos retornará dois primos diferentes entre si com uma alta probabilidade."
      ]
    },
    {
      "cell_type": "code",
      "execution_count": 42,
      "metadata": {},
      "outputs": [],
      "source": [
        "def is_prime(n: int, k=128) -> bool:\n",
        "    \"\"\"Teste de primalidade usando o algoritmo de Miller-Rabin.\"\"\"\n",
        "    s = 0\n",
        "    r = n - 1\n",
        "    while r & 1 == 0:\n",
        "        s += 1\n",
        "        r //= 2\n",
        "\n",
        "    for _ in range(k):\n",
        "        a = randrange(2, n - 1)\n",
        "        x = pow(a, r, n)\n",
        "        if x != 1 and x != n - 1:\n",
        "            j = 1\n",
        "            while j < s and x != n - 1:\n",
        "                x = pow(x, 2, n)\n",
        "                if x == 1:\n",
        "                    return False\n",
        "                j += 1\n",
        "            if x != n - 1:\n",
        "                return False\n",
        "    return True\n",
        "\n",
        "def get_prime():\n",
        "    \"\"\"Gera um número primo de 1024 bits.\"\"\"\n",
        "    while True:\n",
        "        p = getrandbits(1024)\n",
        "        p |= 1  # Garante que o número é ímpar\n",
        "        p |= 1 << 1023  # Garante o tamanho correto (1024 bits)\n",
        "        if is_prime(p):\n",
        "            return p\n",
        "        \n",
        "p = get_prime()\n",
        "q = get_prime()\n",
        "\n",
        "while p == q:\n",
        "    q = get_prime()"
      ]
    },
    {
      "cell_type": "markdown",
      "metadata": {},
      "source": [
        "Com p e q gerados, iremos definir algumas funções auxiliares para calcularmos a operação mdc e os valores de n e phi."
      ]
    },
    {
      "cell_type": "code",
      "execution_count": 43,
      "metadata": {},
      "outputs": [],
      "source": [
        "def gcd(a, b):\n",
        "    \"\"\"Calcula o máximo divisor comum (GCD) usando o algoritmo de Euclides.\"\"\"\n",
        "    while b:\n",
        "        a, b = b, a % b\n",
        "    return a\n",
        "\n",
        "def get_n(p, q):\n",
        "    \"\"\"Calcula o valor de n = p * q.\"\"\"\n",
        "    return p * q\n",
        "\n",
        "def get_phi(p, q):\n",
        "    \"\"\"Calcula o valor de phi = (p - 1) * (q - 1).\"\"\"\n",
        "    return (p - 1) * (q - 1)\n",
        "\n",
        "n = get_n(p, q)\n",
        "phi = get_phi(p, q)"
      ]
    },
    {
      "cell_type": "markdown",
      "metadata": {},
      "source": [
        "Agora, iremos definir duas função que irão encapsular as equações de geração de \"e\" e \"d\""
      ]
    },
    {
      "cell_type": "code",
      "execution_count": 44,
      "metadata": {},
      "outputs": [],
      "source": [
        "def choose_e(phi):\n",
        "    \"\"\"Escolhe um valor de 'e' que seja coprimo a 'phi'.\"\"\"\n",
        "    e = 2\n",
        "    while e < phi and gcd(e, phi) != 1:\n",
        "        e += 1\n",
        "    return e\n",
        "\n",
        "def get_d(e, phi):\n",
        "    \"\"\"Encotra o inverso modular de 'e'.\"\"\"\n",
        "    return pow(e, -1, phi)\n",
        "\n",
        "e = choose_e(phi)\n",
        "d = get_d(e, phi)"
      ]
    },
    {
      "cell_type": "markdown",
      "metadata": {},
      "source": [
        "Pronto, com \"n\", \"e\" e \"d\" estamos pronto para gerarmos nossas chaves com a função generate_keys();"
      ]
    },
    {
      "cell_type": "code",
      "execution_count": 45,
      "metadata": {},
      "outputs": [
        {
          "name": "stdout",
          "output_type": "stream",
          "text": [
            "Chave Pública: (3, 22751120259698780917888422215996285425815318360335129294714747800173474348434684905013723216622000690799783714033445272684364085686774103170704222785604288767317216239499575368836783219334959660958298709605983752335726428001316471323185390383255601200069160555692526168605222778965130624254287841956444750275710815999862346897088948145403026539196695575984062208007911597654841709403816768354406265905366029655563378512194337584350387721282251753221346893650739680426464117052789094773850152335316649588796841319317039200473396378621774140695382026346092812631820696785432822295891006402974008215970086363963704671197). \n",
            " Chave privada: (15167413506465853945258948143997523617210212240223419529809831866782316232289789936675815477748000460533189142688963515122909390457849402113802815190402859178211477492999716912557855479556639773972199139737322501557150952000877647548790260255503734133379440370461684112403481852643420416169525227970963166850270407115709340250828114548263447004122942636681851071674816911393852585507823877320047067738216510880275210556753806067063558975533185131310665756615574797740954944427522165761284963164058809274625602247722840010369106947592090212309596362735879625372644825084436692088545494192203718796103438590149783619627, 22751120259698780917888422215996285425815318360335129294714747800173474348434684905013723216622000690799783714033445272684364085686774103170704222785604288767317216239499575368836783219334959660958298709605983752335726428001316471323185390383255601200069160555692526168605222778965130624254287841956444750275710815999862346897088948145403026539196695575984062208007911597654841709403816768354406265905366029655563378512194337584350387721282251753221346893650739680426464117052789094773850152335316649588796841319317039200473396378621774140695382026346092812631820696785432822295891006402974008215970086363963704671197)\n"
          ]
        }
      ],
      "source": [
        "def generate_keys(n, e, d):\n",
        "    \"\"\"Gera as chaves pública e privada.\"\"\"\n",
        "    public_key = (e, n)\n",
        "    private_key = (d, n)\n",
        "\n",
        "    return public_key, private_key\n",
        "\n",
        "pk, sk = generate_keys(n, e, d)\n",
        "\n",
        "print(f\"Chave Pública: {pk}. \\n Chave privada: {sk}\")"
      ]
    },
    {
      "cell_type": "markdown",
      "metadata": {
        "id": "8uw5uo4QhcSp"
      },
      "source": [
        "## Encriptação e Decriptação\n",
        "\n",
        "Agora, já em porte da chave pública e a privada, podemos avançar para o processo de encriptação e decriptação do algoritmo RSA. A encriptação será realizada com a chave privada (sk), seguindo a fórmula C = M^\"e\" mod n, onde M é a mensagem original, d é o expoente da chave privada e n é o produto dos números primos gerados. Já para a decriptação, utilizaremos a chave pública (pk), seguindo essa fórmula: M = C^\"d\", onde C é o texto cifrado e “e” é o expoente da chave pública."
      ]
    },
    {
      "cell_type": "markdown",
      "metadata": {},
      "source": [
        "### RSA\n",
        "\n",
        "Para encapsular a lógica dessas fórmulas, criaremos uma classe chamada RSA que irá gerenciar as operações de encriptação e decriptação.No método de inicialização da classe iremos passar as chaves pública e privada já definidas. "
      ]
    },
    {
      "cell_type": "code",
      "execution_count": 46,
      "metadata": {
        "id": "atnThetNqLqE"
      },
      "outputs": [],
      "source": [
        "class RSA:\n",
        "    def __init__(self):\n",
        "        self.public_key, self.private_key = pk, sk\n",
        "\n",
        "    def encrypt(self, message: int):\n",
        "        \"\"\"Criptografa uma mensagem usando a chave privada.\"\"\"\n",
        "        d, n = self.private_key\n",
        "        result = pow(message, d, n)  # (m^d) mod n\n",
        "        return str(result)\n",
        "\n",
        "    def decrypt(self, message: int):\n",
        "        \"\"\"Descriptografa uma mensagem usando a chave pública.\"\"\"\n",
        "        e, n = self.public_key\n",
        "        result = pow(message, e, n)  # (c^e) mod n\n",
        "        return str(result)\n"
      ]
    },
    {
      "cell_type": "markdown",
      "metadata": {},
      "source": [
        "### OAEP\n",
        "\n",
        "Mas, antes de aplicarmos diretamente o RSA na nossa mensagem a ser encriptada, primeiramente, iremos utilizar uma técnica de padding pseudo aleatória, OAEP (Optimal Asymmetric Encryption Padding), com o intuito de aumentar a segurança da nossa criptografia tornando mais difícil técnicas baseadas em análises matemáticas e/ou estruturais, as quais podem possuir alguma efetividade em mensagens com tamanho muito pequeno.\n",
        "\n",
        "O algoritmo funciona mesclando a mensagem original com um valor pseudo aleatório r de tamanho de 64 bytes, esse r servirá para gerarmos x e y que serão a base da nossa nova mensagem com seu padding. Já o algoritmo de  decriptação é determinismo, o qual realiza operações reversas para obter a mensagem original. Vale ressaltar que esse algoritmo não traz segurança a mensagem, qualquer um que tenha acesso a cifra será capaz de fazer o processo reverso, ele apenas serve como técnica de preenchimento de mensagens.\n"
      ]
    },
    {
      "cell_type": "code",
      "execution_count": 47,
      "metadata": {
        "id": "tbVufeCoqBrH"
      },
      "outputs": [],
      "source": [
        "from hashlib import sha3_512\n",
        "from os import urandom\n",
        "\n",
        "class OAEP:\n",
        "    k0 = 512\n",
        "    k1 = 256\n",
        "\n",
        "    def __init__(self):\n",
        "        self.x = None\n",
        "        self.y = None\n",
        "\n",
        "    def sha3_512(self, data: bytes) -> bytes:\n",
        "        \"\"\"Aplica SHA3-512 e retorna o hash como bytes.\"\"\"\n",
        "        return sha3_512(data).digest()\n",
        "\n",
        "    def encrypt(self, message: int) -> int:\n",
        "        \"\"\"Encriptação do algoritmo OAEP\"\"\"\n",
        "        r = urandom(64)\n",
        "        \n",
        "        message = message << self.k1\n",
        "        \n",
        "        x = message ^ int.from_bytes(self.sha3_512(r))\n",
        "        \n",
        "        y = int.from_bytes(r) ^ int.from_bytes(self.sha3_512(x.to_bytes(128)))\n",
        "        \n",
        "        return (x << self.k0) | y\n",
        "\n",
        "    def decrypt(self, ciphertext: int) -> int:\n",
        "        \"\"\"Decriptação do algoritmo OAEP\"\"\"\n",
        "        \n",
        "        y = ciphertext & ((1 << self.k0) - 1)\n",
        "        x = ciphertext >> self.k0\n",
        "\n",
        "        r = y ^ int.from_bytes(self.sha3_512(x.to_bytes(128)))\n",
        "\n",
        "        pm = x ^ int.from_bytes(self.sha3_512(r.to_bytes(self.k0 // 8)))\n",
        "\n",
        "        return pm >> self.k1"
      ]
    },
    {
      "cell_type": "markdown",
      "metadata": {
        "id": "R8VHDCRSf1Jr"
      },
      "source": [
        "## Assinatura, Transmissão e Verificação de Assinatura\n",
        "\n",
        "Agora que já temos ferramentas o suficiente para realizarmos a geração das chaves, encriptação e decriptação, iremos nos preocupar com questionamentos fundamentais na nossa aplicação: Como podemos assinar a mensagem? Como podemos transmitir essa mensagem de uma maneira adequada? Como podemos verificar nossa assinatura?"
      ]
    },
    {
      "cell_type": "markdown",
      "metadata": {
        "id": "EWo77-OPUgr_"
      },
      "source": [
        "### Assinatura\n",
        "\n",
        "Para assinar digitalmente nossa mensagem a ser transmitida, utilizaremos uma função de compactação de dados, mais especificamente a função SHA3-512. Uma função de compactação é um algoritmo que dado uma entrada de dados de qualquer tamanho, sua saída será de tamanho fixo, a qual é chamada de hash. Utilizaremos essa função de compactação, pois ela possui a propriedade de que a computação reversa do hash para a mensagem original é extremamente custosa computacionalmente.\n",
        "\n",
        "Assim, a nossa estratégia de assinatura será transmitir nossa mensagem e o seu hash, porém este hash estará criptografado pelo algoritmo RSA. Com isso, ao realizar a decriptação utilizando a chave pública do emissor, o receptor poderá fazer o hash da mensagem recebida e comparar com o hash  decriptado, e, caso eles sejam iguais, o emissor terá a garantia que a mensagem é realmente do seu emissor, já que apenas ele possui acesso a sua chave privada capaz de gerar a encriptação correta.\n",
        "\n",
        "Nesta parte do nosso projeto, utilizaremos a biblioteca “hashlib” para o desenvolvimento da nossa função Hash, sendo a única parte do nosso projeto que utilizará código de terceiros.\n",
        "\n",
        "\n",
        "#### Função Hash\n",
        "\n"
      ]
    },
    {
      "cell_type": "code",
      "execution_count": 48,
      "metadata": {
        "id": "WdXN9c9uSZWI"
      },
      "outputs": [],
      "source": [
        "from hashlib import sha3_512, sha3_256\n",
        "class sha3:\n",
        "  @staticmethod\n",
        "  def hash_512(message):\n",
        "    if type(message) == int:\n",
        "      message = str(message)\n",
        "    elif type(message) == str:\n",
        "      message = message.encode()\n",
        "    return int.from_bytes(sha3_512(message).digest())\n",
        "\n",
        "  @staticmethod\n",
        "  def hash_256(message):\n",
        "    if type(message) == int:\n",
        "      message = str(message)\n",
        "    elif type(message) == str:\n",
        "      message = message.encode()\n",
        "    return int.from_bytes(sha3_256(message).digest())\n"
      ]
    },
    {
      "cell_type": "markdown",
      "metadata": {},
      "source": [
        "### Transmissão\n",
        "\n",
        "Para a transmissão da nossa cifra, primeiramente, iremos converter a cifra para o formato Base64. Isso será feito, a Base64 é uma forma de codificação que transforma dados binários em uma sequência de caracteres ASCII, o que normalmente é um formato mais adequado a transmissão de dados.\n",
        "\n",
        "Nossa implementação é um modelo simplificado da Base64, mas suficientemente robusto para o escopo deste projeto.\n",
        "\n",
        "#### BASE64"
      ]
    },
    {
      "cell_type": "code",
      "execution_count": 49,
      "metadata": {
        "id": "bCsYXNewV5EI"
      },
      "outputs": [],
      "source": [
        "class base_convert:\n",
        "\n",
        "  #converte para base 64\n",
        "  @staticmethod\n",
        "  def format(message: int):\n",
        "    #Usa uma string de referencia\n",
        "    base64_chars = \"ABCDEFGHIJKLMNOPQRSTUVWXYZabcdefghijklmnopqrstuvwxyz0123456789+/\"\n",
        "    res = \"\"\n",
        "    #Enquanto a mensagem nao se tornar 0 realiza o metodo de divisoes sucessivas\n",
        "    while message > 0:\n",
        "      remainder = message % 64\n",
        "      res = base64_chars[remainder] + res\n",
        "      message = message // 64\n",
        "    return res\n",
        "\n",
        "\n",
        "  @staticmethod\n",
        "  def parse(base64_message: str):\n",
        "    #Tambem usa uma string de referebncia\n",
        "    base64_chars = \"ABCDEFGHIJKLMNOPQRSTUVWXYZabcdefghijklmnopqrstuvwxyz0123456789+/\"\n",
        "    res = 0\n",
        "    # procura o caracter encontrado na string e coloca e soma com o resultado multiplicado por 64\n",
        "    # essa multiplicacao por 64 fara com que os termos sejam multiplicados por 64 o numero correto de vezes\n",
        "    for char in base64_message:\n",
        "      res = res * 64 + base64_chars.index(char)\n",
        "    return res\n",
        "\n"
      ]
    },
    {
      "cell_type": "markdown",
      "metadata": {},
      "source": [
        "### Verificação com Exemplo Prático\n",
        "\n",
        "\n",
        "Agora, finalmente partiremos para a demonstração do nosso projeto. Nesta demonstração, geramos nosso plain text utilizando o lorem ipsum, um gerador randômico de texto.\n",
        "\n",
        "O processo começa com a transformação do texto em números, utilizando a tabela ASCII para converter cada caractere em um valor numérico. Em seguida, calculamos o hash da mensagem para criar uma representação única e compacta do texto. Após isso, utilizamos o padding OAEP sobre o hash da mensagem para adicionar segurança à encriptação. Com o hash preparado, realizamos a sua criptografia utilizando a chave privada do algoritmo RSA. Por fim, para realizarmos a transmissão, concatenamos a mensagem ao hash criptografado e assim, colocamos o resultado da concatenação em Base64.\n",
        "\n",
        "Já o processo de verificação é o reverso no processo de assinatura. Primeiramente, desfazemos o formato Base64, separamos a mensagem do hash criptografado e realizamos a decriptação com a chave pública do emissor e retiramos o padding resultado do OAEP. Assim, ao final dessa série de processos, temos dois dados fundamentais, a mensagem e o hash do emissor, caso o hash do emissor seja compatível com o hash da mensagem, realmente essa mensagem é do emissor declarado, garantindo assim confiabilidade a origem dessa mensagem, caso não seja, concluímos que ou o hash ou a mensagem foram interceptadas e trocadas durante a nossa transmissão, logo, ambas devem ser invalidadas e descartadas.\n"
      ]
    },
    {
      "cell_type": "code",
      "execution_count": 50,
      "metadata": {
        "colab": {
          "base_uri": "https://localhost:8080/"
        },
        "id": "hiaLDst-aMM1",
        "outputId": "17610db2-bc4c-4b64-f72d-79412e1e83f1"
      },
      "outputs": [
        {
          "name": "stdout",
          "output_type": "stream",
          "text": [
            "Mensagem codificada em base64: BC1b8cYlAabPT3htInRDRnv66QiGCK0XgVetzu3hlT9Hr4jptq20/kYNmKXpcfNWpS1+tA3LtnhyHsZVXteTXlRzbdTgSX/W4IuGi7XomV8Uq1ddW028GnEXbTMBKY7lNCcp/7fzhSiL912s616THPJh64Qg8Jv4QC53WqEc0FFg1k7xdpmMYlaaT6/r6Jiu5Hz2yFlCPkCz9ETRPDLfXUAe48YyCBoPTZcc7qeLHCHSpU6abKFKbLV2GjuigxDmFmUqQ36sigmZkAgB2H+lzxIG8nsz05zXIMHRz865goxWxcVAYjdgeHFumVTzs/anOwdE1v0fKiiIilk6PkMZyLzDjr5tmImMFTzozKpPh8EBnSJa77Ck4KEJGTz/5sQK6lXv/UxrLFhvVj3OqJbVABqyVkcjfOOkBRgP7Gwb5Q4xKpIvJaFXpnH60KOCgkLucm2kLJKvci1huUOJLikFsiRodTWVN6+oVMLma53z7+8tqlRsZijfcBtpYIcI31TP/VibNmnWhoco8bLvk1orEsW9f4IlRzZLvT1X9y2r+LCI1hxf8YUnfcQC/DML8dJQsK1eBeN8a15vfxaN8DF8g5SbIbid4p5Myw1sMNvsKHLSs4Y4fddMQGg4vo698BN7tf8TgOT7BKpHyLAbkAy/oG8Xcdh8L4/XD3MTJj9NYBg4TCagcwOhU6pWgHxpm1wBGxADwz4Ezp/pol6b3/rei6tBiApACcUma/wpp8FSPuVhfvXFg9hYGKHgvlY+qlL4E3TGVJzjKpHvLqBNzS3BDqeGduzAGxqJ7a84B1AxcfJ9v58sfjvoY4qlNCarOIbtUCtzyj6sZOQOHMqyT2hANcWJaS0kPk6o82IFbxqOa5PcSnHsbzah2GqPlCDglObuUUo0Up20AkNon3wX5owt58cnrn26MYz0liIIcDABmAyjs8hF0i3yBYN2vcqWewa6dt1ZUPrh45EOTH85zuK1w\n",
            "Hash da mensagem: 21416939213125460430805476082760158250146557609873224796774720569135700278899\n",
            "Hash decodificado: 21416939213125460430805476082760158250146557609873224796774720569135700278899\n",
            "Verificação de assinatura: True\n"
          ]
        }
      ],
      "source": [
        "# Instanciação da classe RSA\n",
        "cy = RSA()\n",
        "oaep = OAEP()\n",
        "\n",
        "plain_text = \"\"\"\n",
        "    Veniam sint in nulla eiusmod esse proident magna pariatur ea fugiat ipsum. Ut cupidatat aliqua amet Lorem consequat \n",
        "    amet eu anim. Id ad ut voluptate quis tempor nisi sunt esse consectetur. Ullamco cupidatat sit commodo minim amet nulla \n",
        "    sit. Tempor occaecat ad occaecat minim irure. Incididunt nostrud sunt ea culpa reprehenderit esse sunt Lorem id ea et \n",
        "    cillum tempor. Magna excepteur labore dolore Lorem esse do  adipisicing aliquip culpa pariatur laboris deserunt consequat.\n",
        "\"\"\"\n",
        "f = open('../resources/input.txt', 'rb')\n",
        "plain_text = f.read()\n",
        "f.close()\n",
        "\n",
        "plain_text = str(int.from_bytes(plain_text))\n",
        "\n",
        "# Calculo do hash 256 da mensagem\n",
        "h = sha3.hash_256(plain_text)\n",
        "\n",
        "# Encryptação desse hash\n",
        "e = oaep.encrypt(h)\n",
        "e = cy.encrypt(e)\n",
        "\n",
        "# Concatenação entre plain_text e o hash encriptado\n",
        "message_to_encode = plain_text + str(e)\n",
        "\n",
        "# Conversão para a Base64\n",
        "encoded_message = base_convert.format(int(message_to_encode))\n",
        "\n",
        "print(\"Mensagem codificada em base64:\", encoded_message)\n",
        "\n",
        "# Parse da base64\n",
        "decoded_message = str(base_convert.parse(encoded_message))\n",
        "\n",
        "# Separação entre o plain_text e o hash encriptado\n",
        "decoded_plain_text = decoded_message[:len(plain_text)]\n",
        "decoded_plain_text_hash = sha3.hash_256(decoded_plain_text)\n",
        "\n",
        "encrypted_hash = decoded_message[len(plain_text):]\n",
        "\n",
        "# Decryptação do hash encriptado\n",
        "decrypted_hash = cy.decrypt(int(encrypted_hash))\n",
        "decrypted_hash = oaep.decrypt(int(decrypted_hash))\n",
        "\n",
        "# Comparação entre os hashs para verificação da assinatura\n",
        "print(\"Hash da mensagem:\", decoded_plain_text_hash)\n",
        "print(\"Hash decodificado:\", decrypted_hash)\n",
        "print(\"Verificação de assinatura:\", decrypted_hash == decoded_plain_text_hash)"
      ]
    }
  ],
  "metadata": {
    "colab": {
      "collapsed_sections": [
        "pMmfCWthUb79",
        "EWo77-OPUgr_",
        "wVQV9v5AqKGM",
        "gPLTa-VJp--V",
        "z34lxvA7V6N9"
      ],
      "provenance": [],
      "toc_visible": true
    },
    "kernelspec": {
      "display_name": ".venv",
      "language": "python",
      "name": "python3"
    },
    "language_info": {
      "codemirror_mode": {
        "name": "ipython",
        "version": 3
      },
      "file_extension": ".py",
      "mimetype": "text/x-python",
      "name": "python",
      "nbconvert_exporter": "python",
      "pygments_lexer": "ipython3",
      "version": "3.12.3"
    }
  },
  "nbformat": 4,
  "nbformat_minor": 0
}
