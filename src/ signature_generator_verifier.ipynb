{
  "cells": [
    {
      "cell_type": "markdown",
      "metadata": {
        "id": "5AlxcTj5DvRa"
      },
      "source": [
        "# Gerador e Verificador de Assinaturas Virtuais\n",
        "\n",
        "Geradores de assinaturas digitais são ferramentas as quais garantem a autenticidade e/ou a integridade de uma dada mensagem. Para isso, utiliza-se técnicas de criptografia, normalmente criptografia assimétrica, onde uma chave privada é empregada para assinar digitalmente um dado, e o hash da mensagem é incorporado na assinatura como uma forma de validação do conteúdo.\n",
        "\n",
        "Já verificadores de assinaturas são responsáveis por confirmar a autenticidade e/ou a integridade de uma assinatura digital. Considerando um cenário de criptografia assimétrica como o dado acima, o verificador utiliza a chave pública correspondente do emissor para decifrar a mensagem cifrada, caso a mensagem realmente seja do emissor declaro, o hash deste texto em claro deve ser correspondente ao hash enviado pelo o emissor.\n",
        "\n",
        "Assim, neste notebook iremos implementar um gerador e verificador de assinatura digitais de documentos, utilizando técnicas avançadas em segurança da computação. Para isso, o projeto consta com quatro módulos principais: geração de chaves,  encriptação e decriptação, assinatura e verificação.\n",
        "\n",
        "O primeiro módulo será responsável pela geração de chaves criptográficas com base no algoritmo RSA, onde essas chaves serão derivadas de números primos de 1024 bits. O segundo módulo dedica-se ao processo de encriptação e decriptação de mensagens utilizando o OAEP (Optimal Asymmetric Encryption Padding). O terceiro realiza o cálculo do hash da mensagem e formatação do resultado em BASE64. Por fim, o quarto módulo sumariza a verificação de assinaturas digitais com um exemplo prático.\n"
      ]
    },
    {
      "cell_type": "markdown",
      "metadata": {
        "id": "pMmfCWthUb79"
      },
      "source": [
        "## Geração de Chaves\n",
        "\n",
        "Primeiramente começaremos nosso projeto com a parte mais crucial nos sistemas modernos de criptografia, a geração das chaves. As chaves são responsáveis por garantir a confidencialidade e a integridade de qualquer algoritmo de criptografia moderno, então é necessário uma alta atenção para se evitar qualquer tipo de padrão ou rastreabilidade em sua geração. Para isso, usaremos duas bibliotecas que irão nos trazer a aleatoriedade necessária para a geração das Chaves."
      ]
    },
    {
      "cell_type": "code",
      "execution_count": 184,
      "metadata": {},
      "outputs": [],
      "source": [
        "from random import getrandbits, randrange"
      ]
    },
    {
      "cell_type": "markdown",
      "metadata": {},
      "source": [
        "O algoritmo que será responsável pela encriptação e decriptação do nosso projeto será o algoritmo de criptografia assimétrica RSA, amplamente reconhecido por sua segurança e aplicabilidade em sistemas modernos de criptografia assimétrica. \n",
        "\n",
        "Dito isso, por ser assimétrico, iremos gerar duas chaves, uma pública e uma privada. A chave pública será composta por n=p×q,  onde p e q são números primos com no mínimo 1024 bits e por \"e\", o qual será um número inteiro escolhido que satisfaça a propriedade 1< \"e\" < ϕ(n) e sendo coprimo de ϕ(n) = (p−1)×(q−1). Já a chave privada será representada por \"d\", calculado como \"d\"≡ \"e\"⁻¹ (mod  ϕ(n)), sendo \"d\" o inverso modular de \"e\" em relação a ϕ(n)."
      ]
    },
    {
      "cell_type": "markdown",
      "metadata": {},
      "source": [
        "Com isto, o primeiro passo será gerar os primos q e p. Faremos isso usando o teste de primalidade de Miller–Rabin, o que nos retornará dois primos diferentes entre si com uma alta probabilidade."
      ]
    },
    {
      "cell_type": "code",
      "execution_count": 185,
      "metadata": {},
      "outputs": [],
      "source": [
        "def is_prime(n: int, k=128) -> bool:\n",
        "    \"\"\"Teste de primalidade usando o algoritmo de Miller-Rabin.\"\"\"\n",
        "    s = 0\n",
        "    r = n - 1\n",
        "    while r & 1 == 0:\n",
        "        s += 1\n",
        "        r //= 2\n",
        "\n",
        "    for _ in range(k):\n",
        "        a = randrange(2, n - 1)\n",
        "        x = pow(a, r, n)\n",
        "        if x != 1 and x != n - 1:\n",
        "            j = 1\n",
        "            while j < s and x != n - 1:\n",
        "                x = pow(x, 2, n)\n",
        "                if x == 1:\n",
        "                    return False\n",
        "                j += 1\n",
        "            if x != n - 1:\n",
        "                return False\n",
        "    return True\n",
        "\n",
        "def get_prime():\n",
        "    \"\"\"Gera um número primo de 1024 bits.\"\"\"\n",
        "    while True:\n",
        "        p = getrandbits(1024)\n",
        "        p |= 1  # Garante que o número é ímpar\n",
        "        p |= 1 << 1023  # Garante o tamanho correto (1024 bits)\n",
        "        if is_prime(p):\n",
        "            return p\n",
        "        \n",
        "p = get_prime()\n",
        "q = get_prime()\n",
        "\n",
        "while p == q:\n",
        "    q = get_prime()"
      ]
    },
    {
      "cell_type": "markdown",
      "metadata": {},
      "source": [
        "Com p e q gerados, iremos definir algumas funções auxiliares para calcularmos a operação mdc e os valores de n e phi."
      ]
    },
    {
      "cell_type": "code",
      "execution_count": 186,
      "metadata": {},
      "outputs": [],
      "source": [
        "def gcd(a, b):\n",
        "    \"\"\"Calcula o máximo divisor comum (GCD) usando o algoritmo de Euclides.\"\"\"\n",
        "    while b:\n",
        "        a, b = b, a % b\n",
        "    return a\n",
        "\n",
        "def get_n(p, q):\n",
        "    \"\"\"Calcula o valor de n = p * q.\"\"\"\n",
        "    return p * q\n",
        "\n",
        "def get_phi(p, q):\n",
        "    \"\"\"Calcula o valor de phi = (p - 1) * (q - 1).\"\"\"\n",
        "    return (p - 1) * (q - 1)\n",
        "\n",
        "n = get_n(p, q)\n",
        "phi = get_phi(p, q)"
      ]
    },
    {
      "cell_type": "markdown",
      "metadata": {},
      "source": [
        "Agora, iremos definir duas função que irão encapsular as equações de geração de \"e\" e \"d\""
      ]
    },
    {
      "cell_type": "code",
      "execution_count": 187,
      "metadata": {},
      "outputs": [],
      "source": [
        "def choose_e(phi):\n",
        "    \"\"\"Escolhe um valor de 'e' que seja coprimo a 'phi'.\"\"\"\n",
        "    e = 2\n",
        "    while e < phi and gcd(e, phi) != 1:\n",
        "        e += 1\n",
        "    return e\n",
        "\n",
        "def get_d(e, phi):\n",
        "    \"\"\"Encotra o inverso modular de 'e'.\"\"\"\n",
        "    return pow(e, -1, phi)\n",
        "\n",
        "e = choose_e(phi)\n",
        "d = get_d(e, phi)"
      ]
    },
    {
      "cell_type": "markdown",
      "metadata": {},
      "source": [
        "Pronto, com \"n\", \"e\" e \"d\" estamos pronto para gerarmos nossas chaves com a função generate_keys();"
      ]
    },
    {
      "cell_type": "code",
      "execution_count": 188,
      "metadata": {},
      "outputs": [
        {
          "name": "stdout",
          "output_type": "stream",
          "text": [
            "Chave Pública: (3, 13935534021441327332743015816144125374915383965472508066227515300564428844698338731558061881012613436368537336727952023568933429884111269827265553661077104135013224768688147474475973404731393710285316000120084323892464535567391040785231402075647286267208315606288702660460346937606401824350265839082830715230853227880709517674177315026222160008170064650950370669656975078741690358639967822017971172242136862977835683243280740503074546462911030951914429618211465016875697930815662226091883105702457427286747301088730713822315458403327435906878311584298711566317680245006600242986869957918772259115220142569265165565431). \n",
            " Chave privada: (9290356014294218221828677210762750249943589310315005377485010200376285896465559154372041254008408957579024891151968015712622286589407513218177035774051402756675483179125431649650648936487595806856877333413389549261643023711594027190154268050431524178138877070859135106973564625070934549566843892721887143487078036824166418798415436318359028915219106908483645032443663983410336673480502168163895141037606848369841208610812441550541939632511546978062438686180272136278831010247830960505293091449692982078331146321554396088205620662857668724415707807450112933490446270962285593183412004355121717280643878262805138242443, 13935534021441327332743015816144125374915383965472508066227515300564428844698338731558061881012613436368537336727952023568933429884111269827265553661077104135013224768688147474475973404731393710285316000120084323892464535567391040785231402075647286267208315606288702660460346937606401824350265839082830715230853227880709517674177315026222160008170064650950370669656975078741690358639967822017971172242136862977835683243280740503074546462911030951914429618211465016875697930815662226091883105702457427286747301088730713822315458403327435906878311584298711566317680245006600242986869957918772259115220142569265165565431)\n"
          ]
        }
      ],
      "source": [
        "def generate_keys(n, e, d):\n",
        "    \"\"\"Gera as chaves pública e privada.\"\"\"\n",
        "    public_key = (e, n)\n",
        "    private_key = (d, n)\n",
        "\n",
        "    return public_key, private_key\n",
        "\n",
        "pk, sk = generate_keys(n, e, d)\n",
        "\n",
        "print(f\"Chave Pública: {pk}. \\n Chave privada: {sk}\")"
      ]
    },
    {
      "cell_type": "markdown",
      "metadata": {
        "id": "8uw5uo4QhcSp"
      },
      "source": [
        "## Encriptação e Decriptação"
      ]
    },
    {
      "cell_type": "markdown",
      "metadata": {
        "id": "wVQV9v5AqKGM"
      },
      "source": [
        "### RSA"
      ]
    },
    {
      "cell_type": "code",
      "execution_count": 189,
      "metadata": {
        "id": "atnThetNqLqE"
      },
      "outputs": [],
      "source": [
        "class rsa:\n",
        "    def __init__(self):\n",
        "        # Gera as chaves pública e privada\n",
        "        self.public_key, self.private_key = pk, sk\n",
        "\n",
        "    def encrypt(self, message: int):\n",
        "        \"\"\"Criptografa uma mensagem usando a chave privada.\"\"\"\n",
        "        d, n = self.private_key\n",
        "        result = pow(message, d, n)  # (m^d) mod n\n",
        "        return str(result)\n",
        "\n",
        "    def decrypt(self, message: int):\n",
        "        \"\"\"Descriptografa uma mensagem usando a chave pública.\"\"\"\n",
        "        e, n = self.public_key\n",
        "        result = pow(message, e, n)  # (c^e) mod n\n",
        "        return str(result)\n"
      ]
    },
    {
      "cell_type": "code",
      "execution_count": 190,
      "metadata": {
        "id": "tbVufeCoqBrH"
      },
      "outputs": [],
      "source": [
        "class oaep:\n",
        "  #usando uma seguranca de 10245 bits\n",
        "  #podemos usar k0 como o mesmo tamanho da funcao de hash que usaremos em m+k1\n",
        "  #Como sera usada a sha-512 colocamos k0 como 512\n",
        "  k0 = 512\n",
        "\n",
        "  #Dessa forma k1 deve ser 256 para que m + k1 + k0 = 1024\n",
        "  k1 = 256\n",
        "\n",
        "  x = None\n",
        "  y = None\n",
        "\n",
        "  def encrypt(self, message: int):\n",
        "    #padding de k1 0s na mensagem\n",
        "    message = message << self.k1\n",
        "    #geracao de k0 bits aleatorios\n",
        "    r = str(getrandbits(self.k0))\n",
        "\n",
        "    #utilizamos o sha3-512 e fazemos um XOR entre os resultados. para obter x\n",
        "    self.x = message ^ int(sha3.hash_512(r),16)\n",
        "\n",
        "    #como X tem o mesmo tamanho de r podemos usar novamente o sha3-512 para fazer o segundo hash e obter y\n",
        "    self.y = int(r) ^ int(sha3.hash_512(str(self.x)),16)\n",
        "\n",
        "    #apos isso concatenamos os dois valores\n",
        "    return str(self.x) + str(self.y)\n",
        "\n",
        "\n",
        "\n",
        "  def decrypt(self, message: str):\n",
        "    #separamos os valores x e y\n",
        "    #sabemos que ambos os lados do input tem 154 digitos logo essa tarefa fica facil\n",
        "    x = message[:154]\n",
        "    y = message[154:]\n",
        "\n",
        "    #primeiro recuperamos r\n",
        "    r = int(y) ^ int(sha3.hash_512(x),16)\n",
        "    #Com r podemos recuperar a mensagem com o padding de 0s\n",
        "    v = int(x) ^ int(sha3.hash_512(str(r)),16)\n",
        "    #logo apenas resta retirar esses 0s da mensagem final\n",
        "    return v >> self.k1\n",
        "\n"
      ]
    },
    {
      "cell_type": "markdown",
      "metadata": {
        "id": "EWo77-OPUgr_"
      },
      "source": [
        "## Assinatura"
      ]
    },
    {
      "cell_type": "markdown",
      "metadata": {},
      "source": [
        "### Hash"
      ]
    },
    {
      "cell_type": "code",
      "execution_count": 191,
      "metadata": {
        "id": "WdXN9c9uSZWI"
      },
      "outputs": [],
      "source": [
        "from hashlib import sha3_256, sha3_512\n",
        "class sha3:\n",
        "  #funcao de hash de 256 bits\n",
        "  @staticmethod\n",
        "  def hash_256(message):\n",
        "    if type(message) == int:\n",
        "      message = str(message)\n",
        "    return sha3_256(message.encode()).hexdigest()\n",
        "  # funcao de hash de 512 bits\n",
        "  @staticmethod\n",
        "  def hash_512(message: str):\n",
        "    if type(message) == int:\n",
        "      message = str(message)\n",
        "    return sha3_512(message.encode()).hexdigest()\n"
      ]
    },
    {
      "cell_type": "code",
      "execution_count": 192,
      "metadata": {
        "colab": {
          "base_uri": "https://localhost:8080/"
        },
        "id": "pw5aAeNHVfjC",
        "outputId": "ac337664-ca41-457c-9ff2-93ffbec2a725"
      },
      "outputs": [
        {
          "name": "stdout",
          "output_type": "stream",
          "text": [
            "48c8947f69c054a5caa934674ce8881d02bb18fb59d5a63eeaddff735b0e9801e87294783281ae49fc8287a0fd86779b27d7972d3e84f0fa0d826d7cb67dfefc\n",
            "48c8947f69c054a5caa934674ce8881d02bb18fb59d5a63eeaddff735b0e9801e87294783281ae49fc8287a0fd86779b27d7972d3e84f0fa0d826d7cb67dfefc\n"
          ]
        }
      ],
      "source": [
        "h = sha3.hash_512(\"123\")\n",
        "print(h)\n",
        "h2 = sha3.hash_512(str(123))\n",
        "print(h2)"
      ]
    },
    {
      "cell_type": "code",
      "execution_count": 193,
      "metadata": {
        "colab": {
          "base_uri": "https://localhost:8080/"
        },
        "id": "vLj0-wyg5nrT",
        "outputId": "29710c47-c130-4178-b081-74b2cf2b4af1"
      },
      "outputs": [
        {
          "name": "stdout",
          "output_type": "stream",
          "text": [
            "91227161193770381059105706066422985949365231602782318340431108282146993439847135182695579030552868695198872981859364502369091538208447318774925849347755088374350005711592843151130204653469129393697914158153302467736672526781087090982993343486223408404517538010973378172586723283629046278280339372134786725543\n",
            "1234\n"
          ]
        }
      ],
      "source": [
        "o = oaep()\n",
        "message = o.encrypt(1234)\n",
        "print(message)\n",
        "print(o.decrypt(message))"
      ]
    },
    {
      "cell_type": "markdown",
      "metadata": {
        "id": "z34lxvA7V6N9"
      },
      "source": [
        "### BASE64"
      ]
    },
    {
      "cell_type": "code",
      "execution_count": 194,
      "metadata": {
        "id": "bCsYXNewV5EI"
      },
      "outputs": [],
      "source": [
        "class base_convert:\n",
        "\n",
        "  #converte para base 64\n",
        "  @staticmethod\n",
        "  def format(message: int):\n",
        "    #Usa uma string de referencia\n",
        "    base64_chars = \"ABCDEFGHIJKLMNOPQRSTUVWXYZabcdefghijklmnopqrstuvwxyz0123456789+/\"\n",
        "    res = \"\"\n",
        "    #Enquanto a mensagem nao se tornar 0 realiza o metodo de divisoes sucessivas\n",
        "    while message > 0:\n",
        "      remainder = message % 64\n",
        "      res = base64_chars[remainder] + res\n",
        "      message = message // 64\n",
        "    return res\n",
        "\n",
        "\n",
        "  @staticmethod\n",
        "  def parse(base64_message: str):\n",
        "    #Tambem usa uma string de referebncia\n",
        "    base64_chars = \"ABCDEFGHIJKLMNOPQRSTUVWXYZabcdefghijklmnopqrstuvwxyz0123456789+/\"\n",
        "    res = 0\n",
        "    # procura o caracter encontrado na string e coloca e soma com o resultado multiplicado por 64\n",
        "    # essa multiplicacao por 64 fara com que os termos sejam multiplicados por 64 o numero correto de vezes\n",
        "    for char in base64_message:\n",
        "      res = res * 64 + base64_chars.index(char)\n",
        "    return res\n",
        "\n"
      ]
    },
    {
      "cell_type": "code",
      "execution_count": 195,
      "metadata": {
        "colab": {
          "base_uri": "https://localhost:8080/"
        },
        "id": "9PURfvVMne9x",
        "outputId": "64cabfb4-d19f-41cf-b43c-b7588e2b68c0"
      },
      "outputs": [
        {
          "name": "stdout",
          "output_type": "stream",
          "text": [
            "TS\n",
            "1234\n"
          ]
        }
      ],
      "source": [
        "v = base_convert.format(1234)\n",
        "print(v)\n",
        "print(base_convert.parse(v))"
      ]
    },
    {
      "cell_type": "markdown",
      "metadata": {
        "id": "R8VHDCRSf1Jr"
      },
      "source": [
        "## Verificação de Assinatura"
      ]
    },
    {
      "cell_type": "code",
      "execution_count": 196,
      "metadata": {
        "colab": {
          "base_uri": "https://localhost:8080/"
        },
        "id": "hiaLDst-aMM1",
        "outputId": "17610db2-bc4c-4b64-f72d-79412e1e83f1"
      },
      "outputs": [
        {
          "name": "stdout",
          "output_type": "stream",
          "text": [
            "Mensagem codificada em base64: F1DqAMDDZP0gmOXMJ1tTzmi07lPYcnSUTB7GMirffG2O2TBzQQ5eXPxvJFlWdC2T0xQ/hrSRh/J8i079TyNwRKwZPNHmv9E940N6A7OjrvU3ykwueK6i1D22LQ+Xz4XJGYBFPYKn1Lj/agGiuaGKfSJx20uCeUDs3WG7/HKrxFIIQSsTXkK4MsiENYoR0et8t73b5kEbVXiONe3cZN7z6c0JB4F/06vffDERM5+BgQNOy5D1es2pClRk+OrJBkGizW2s2qMuaktwwbebQZik2cm9Opy8Ss7KQtlCxK84TxRvvTOn2jEIrdbYG96Pt3siZvciTOcDiHObuA8OFEKzJAKf7\n",
            "Hash original: 100605913033220575484136493710894157805945673824467054724527238753657734088666\n",
            "Hash decodificado: 100605913033220575484136493710894157805945673824467054724527238753657734088666\n",
            "Verificação de assinatura: True\n"
          ]
        }
      ],
      "source": [
        "# Instanciação da classe RSA\n",
        "cy = rsa()\n",
        "\n",
        "plain_text = 1234543\n",
        "\n",
        "# Calculo do hash 256 da mensagem\n",
        "h = int(sha3.hash_256(str(plain_text)), 16)\n",
        "\n",
        "# Encryptação desse hash\n",
        "e = cy.encrypt(h)\n",
        "\n",
        "# Concatenação entre plain_text e o hash encriptado\n",
        "message_to_encode = str(plain_text) + str(e)\n",
        "\n",
        "# Conversão para a Base64\n",
        "encoded_message = base_convert.format(int(message_to_encode))\n",
        "\n",
        "print(\"Mensagem codificada em base64:\", encoded_message)\n",
        "\n",
        "# Parse da base64\n",
        "decoded_message = str(base_convert.parse(encoded_message))\n",
        "\n",
        "# Separação entre o plain_text e o hash encriptado\n",
        "decoded_plain_text = decoded_message[:len(str(plain_text))]\n",
        "\n",
        "encrypted_hash = decoded_message[len(str(plain_text)):]\n",
        "\n",
        "# Decryptação do hash encriptado\n",
        "decrypted_hash = cy.decrypt(int(encrypted_hash))\n",
        "\n",
        "# Comparação entre os hashs para verificação da assinatura\n",
        "print(\"Hash original:\", h)\n",
        "print(\"Hash decodificado:\", decrypted_hash)\n",
        "print(\"Verificação de assinatura:\", int(decrypted_hash) == h)"
      ]
    }
  ],
  "metadata": {
    "colab": {
      "collapsed_sections": [
        "pMmfCWthUb79",
        "EWo77-OPUgr_",
        "wVQV9v5AqKGM",
        "gPLTa-VJp--V",
        "z34lxvA7V6N9"
      ],
      "provenance": [],
      "toc_visible": true
    },
    "kernelspec": {
      "display_name": ".venv",
      "language": "python",
      "name": "python3"
    },
    "language_info": {
      "codemirror_mode": {
        "name": "ipython",
        "version": 3
      },
      "file_extension": ".py",
      "mimetype": "text/x-python",
      "name": "python",
      "nbconvert_exporter": "python",
      "pygments_lexer": "ipython3",
      "version": "3.11.2"
    }
  },
  "nbformat": 4,
  "nbformat_minor": 0
}
