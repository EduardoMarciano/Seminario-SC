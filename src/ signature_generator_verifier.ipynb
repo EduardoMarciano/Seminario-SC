{
  "cells": [
    {
      "cell_type": "markdown",
      "metadata": {
        "id": "5AlxcTj5DvRa"
      },
      "source": [
        "# Gerador e Verificador de Assinaturas Virtuais\n",
        "\n",
        "\n",
        "Geradores de assinaturas digitais são ferramentas as quais garantem a autenticidade e/ou a integridade de uma dada mensagem. Para isso, utiliza-se técnicas de criptografia, normalmente criptografia assimétrica, onde uma chave privada é empregada para assinar digitalmente um dado, e o hash da mensagem é incorporado na assinatura como uma forma de validação do conteúdo.\n",
        "\n",
        "Já verificadores de assinaturas são responsáveis por confirmar a autenticidade e/ou a integridade de uma assinatura digital. Considerando um cenário de criptografia assimétrica como o dado acima, o verificador utiliza a chave pública correspondente do emissor para decifrar a mensagem cifrada, caso a mensagem realmente seja do emissor declarado, o hash deste texto em claro deve ser correspondente ao hash enviado pelo o emissor.\n",
        "\n",
        "Assim, neste notebook iremos implementar um gerador e verificador de assinatura digitais de documentos, utilizando técnicas avançadas em segurança da computação. Para isso, o projeto consta com quatro módulos principais: geração de chaves,  encriptação e decriptação, assinatura e verificação.\n"
      ]
    },
    {
      "cell_type": "markdown",
      "metadata": {
        "id": "pMmfCWthUb79"
      },
      "source": [
        "## Geração de Chaves"
      ]
    },
    {
      "cell_type": "code",
      "execution_count": null,
      "metadata": {
        "id": "sIqUN3u2Dp-_"
      },
      "outputs": [],
      "source": [
        "from random import getrandbits, randrange\n",
        "\n",
        "class KeyManager:\n",
        "    p = -1\n",
        "    q = -1\n",
        "\n",
        "    e = -1\n",
        "\n",
        "    def __init__(self) -> None:\n",
        "        self.n = -1\n",
        "        self.phi = -1\n",
        "\n",
        "        self.generate()\n",
        "\n",
        "    def generate(self):\n",
        "        self.p = self.get_prime()\n",
        "        self.q = self.get_prime()\n",
        "\n",
        "        while self.p == self.q:\n",
        "           self.q = self.get_prime()\n",
        "\n",
        "        self.n = self.get_n()\n",
        "        self.phi = self.get_phi()\n",
        "        self.e = self.choose_e()\n",
        "\n",
        "    def get_prime(self):\n",
        "        while True:\n",
        "            #cria um numero aleatorio de 1024 bits\n",
        "            p = getrandbits(1024)\n",
        "            #seta seu bit menos significativo para 1 para garantir ser impar\n",
        "            p |= 1\n",
        "            #seta seu bit mais significativo para 1 para garantir estarmos na escala correta\n",
        "            p |= 1 << 1023\n",
        "            #testa se esse valor e primo e apenas retorna quando um numero passar no teste\n",
        "            if self.is_prime(p):\n",
        "                return p\n",
        "\n",
        "    def is_prime(self, n: int, k=128) -> bool:\n",
        "        s = 0\n",
        "        r = n-1\n",
        "        while r & 1 == 0:\n",
        "          s += 1\n",
        "          r //= 2\n",
        "\n",
        "        for _ in range(k):\n",
        "          # MILLER-RABIN\n",
        "          a = randrange(2, n-1)\n",
        "          x = pow(a, r, n)\n",
        "          if x != 1 and x != n-1:\n",
        "            j = 1\n",
        "            while j < s and x != n-1:\n",
        "              x = pow(x, 2, n)\n",
        "              if x == 1:\n",
        "                return False\n",
        "              j += 1\n",
        "            if x != n-1:\n",
        "              return False\n",
        "        return True\n",
        "\n",
        "    def choose_e(self):\n",
        "      #procura um e maior do que 2 que seja coprimo a phi\n",
        "      e = 2\n",
        "      while e < self.phi and self.gcd(e, self.phi) != 1:\n",
        "        e += 1\n",
        "      return e\n",
        "\n",
        "    def get_public_key(self):\n",
        "        return (self.n, self.get_e())\n",
        "\n",
        "    def get_private_key(self):\n",
        "        return (self.n, self.get_d())\n",
        "\n",
        "    def get_e(self):\n",
        "        return self.e\n",
        "    def get_d(self):\n",
        "        # o proprio python  consegue calcular o inveso modular de e\n",
        "        return pow(self.e, -1, self.phi)\n",
        "\n",
        "    def get_n(self):\n",
        "        return self.p * self.q\n",
        "\n",
        "    def get_phi(self):\n",
        "        return (self.p - 1) * (self.q - 1)\n",
        "\n",
        "    def gcd(self, a, b):\n",
        "        while b:\n",
        "            a, b = b, a % b\n",
        "        return a"
      ]
    },
    {
      "cell_type": "code",
      "execution_count": null,
      "metadata": {
        "colab": {
          "base_uri": "https://localhost:8080/"
        },
        "id": "CD2S00kDEGyS",
        "outputId": "dcddc468-a3e9-453b-c817-1352b7071614"
      },
      "outputs": [
        {
          "name": "stdout",
          "output_type": "stream",
          "text": [
            "(17473691584710855814048715929812957603488936939607332862685273505336597900309151263827852910527051884669632205539679244848927931125397559443355039895470656650442729671903101430824725029113921944410581856216487001138642409482892998058080305878766625054550547246624326257053819684221858655426623362310351439960192995636796085806271465883517551087345357007239813247047770167684170023496529021007972717204859436636891757525350194730242178532102858456551750662771319321483901489399528768299559600758876155017636542723173938897396920791722309487061401898770157305053146680091920243742180052337603961697229274878573160259833, 3)\n",
            "(17473691584710855814048715929812957603488936939607332862685273505336597900309151263827852910527051884669632205539679244848927931125397559443355039895470656650442729671903101430824725029113921944410581856216487001138642409482892998058080305878766625054550547246624326257053819684221858655426623362310351439960192995636796085806271465883517551087345357007239813247047770167684170023496529021007972717204859436636891757525350194730242178532102858456551750662771319321483901489399528768299559600758876155017636542723173938897396920791722309487061401898770157305053146680091920243742180052337603961697229274878573160259833, 11649127723140570542699143953208638402325957959738221908456849003557731933539434175885235273684701256446421470359786163232618620750265039628903359930313771100295153114602067620549816686075947962940387904144324667425761606321928665372053537252511083369700364831082884171369213122814572436951082241540234293306612768084760350076130673141792603968145194019759221536960763229646067911183340435583754276578659520225488885019486026262178035742619324999889039345035805403728932289334649717305411269527027830095226528147628138686333833803527807929212327473921759103293321500054569159335912079219038172501560029565155822241859)\n"
          ]
        }
      ],
      "source": [
        "km = KeyManager()\n",
        "\n",
        "pk = km.get_public_key()\n",
        "sk = km.get_private_key()\n",
        "\n",
        "print(pk)\n",
        "print(sk)"
      ]
    },
    {
      "cell_type": "code",
      "execution_count": null,
      "metadata": {
        "colab": {
          "base_uri": "https://localhost:8080/"
        },
        "id": "_dQ5xFpDTgLB",
        "outputId": "647a2573-823f-419d-9e5d-398892b69410"
      },
      "outputs": [
        {
          "name": "stdout",
          "output_type": "stream",
          "text": [
            "27\n"
          ]
        }
      ],
      "source": [
        "print(pow(3,-1,40))"
      ]
    },
    {
      "cell_type": "markdown",
      "metadata": {
        "id": "8uw5uo4QhcSp"
      },
      "source": [
        "##Encriptação e Decriptação"
      ]
    },
    {
      "cell_type": "markdown",
      "metadata": {
        "id": "EWo77-OPUgr_"
      },
      "source": [
        "## Assinatura"
      ]
    },
    {
      "cell_type": "markdown",
      "metadata": {
        "id": "wVQV9v5AqKGM"
      },
      "source": [
        "###RSA"
      ]
    },
    {
      "cell_type": "code",
      "execution_count": null,
      "metadata": {
        "id": "WdXN9c9uSZWI"
      },
      "outputs": [],
      "source": [
        "from hashlib import sha3_256, sha3_512\n",
        "class sha3:\n",
        "  #funcao de hash de 256 bits\n",
        "  @staticmethod\n",
        "  def hash_256(message):\n",
        "    if type(message) == int:\n",
        "      message = str(message)\n",
        "    return sha3_256(message.encode()).hexdigest()\n",
        "  # funcao de hash de 512 bits\n",
        "  @staticmethod\n",
        "  def hash_512(message: str):\n",
        "    if type(message) == int:\n",
        "      message = str(message)\n",
        "    return sha3_512(message.encode()).hexdigest()\n"
      ]
    },
    {
      "cell_type": "code",
      "execution_count": null,
      "metadata": {
        "id": "atnThetNqLqE"
      },
      "outputs": [],
      "source": [
        "import base64\n",
        "class rsa:\n",
        "  km = KeyManager()\n",
        "\n",
        "  def encrypt(self, message: int):\n",
        "    #Recupera a chave privada\n",
        "    n, d = km.get_private_key()\n",
        "    #realiza a operacao (m^d)mod n\n",
        "    result = pow(message, d, n)\n",
        "    return str(result)\n",
        "\n",
        "\n",
        "  def decrypt(self, message: int):\n",
        "    #Recupera a chave publica\n",
        "    n, e = km.get_public_key()\n",
        "    # realiza a operacao (c^e)mod n\n",
        "    result = pow(message, e, n)\n",
        "    return str(result)\n"
      ]
    },
    {
      "cell_type": "markdown",
      "metadata": {
        "id": "gPLTa-VJp--V"
      },
      "source": [
        "###OAEP"
      ]
    },
    {
      "cell_type": "code",
      "execution_count": null,
      "metadata": {
        "id": "tbVufeCoqBrH"
      },
      "outputs": [],
      "source": [
        "from hashlib import sha3_512\n",
        "class oaep:\n",
        "  #usando uma seguranca de 10245 bits\n",
        "  #podemos usar k0 como o mesmo tamanho da funcao de hash que usaremos em m+k1\n",
        "  #Como sera usada a sha-512 colocamos k0 como 512\n",
        "  k0 = 512\n",
        "\n",
        "  #Dessa forma k1 deve ser 256 para que m + k1 + k0 = 1024\n",
        "  k1 = 256\n",
        "\n",
        "  x = None\n",
        "  y = None\n",
        "\n",
        "  def encrypt(self, message: int):\n",
        "    #padding de k1 0s na mensagem\n",
        "    message = message << self.k1\n",
        "    #geracao de k0 bits aleatorios\n",
        "    r = str(getrandbits(self.k0))\n",
        "\n",
        "    #utilizamos o sha3-512 e fazemos um XOR entre os resultados. para obter x\n",
        "    self.x = message ^ int(sha3.hash_512(r),16)\n",
        "\n",
        "    #como X tem o mesmo tamanho de r podemos usar novamente o sha3-512 para fazer o segundo hash e obter y\n",
        "    self.y = int(r) ^ int(sha3.hash_512(str(self.x)),16)\n",
        "\n",
        "    #apos isso concatenamos os dois valores\n",
        "    return str(self.x) + str(self.y)\n",
        "\n",
        "\n",
        "\n",
        "  def decrypt(self, message: str):\n",
        "    #separamos os valores x e y\n",
        "    #sabemos que ambos os lados do input tem 154 digitos logo essa tarefa fica facil\n",
        "    x = message[:154]\n",
        "    y = message[154:]\n",
        "\n",
        "    #primeiro recuperamos r\n",
        "    r = int(y) ^ int(sha3.hash_512(x),16)\n",
        "    #Com r podemos recuperar a mensagem com o padding de 0s\n",
        "    v = int(x) ^ int(sha3.hash_512(str(r)),16)\n",
        "    #logo apenas resta retirar esses 0s da mensagem final\n",
        "    return v >> self.k1\n",
        "\n"
      ]
    },
    {
      "cell_type": "code",
      "execution_count": null,
      "metadata": {
        "colab": {
          "base_uri": "https://localhost:8080/"
        },
        "id": "vLj0-wyg5nrT",
        "outputId": "29710c47-c130-4178-b081-74b2cf2b4af1"
      },
      "outputs": [
        {
          "name": "stdout",
          "output_type": "stream",
          "text": [
            "12595320046397688107638831524266177116235769108278568378275714326068487184052026229572556376459637125729778656480051650161891716942173479422152957503806968572978066140119812938438371378855677352834709259394121391462482545161821537424917805907132574328705188068550600692780257690163036351442172923765143835029\n",
            "12272876810114214767369914665860323376317810036492533392987205854063517252192\n"
          ]
        }
      ],
      "source": [
        "o = oaep()\n",
        "message = o.encrypt(1234)\n",
        "print(message)\n",
        "print(o.decrypt(message))"
      ]
    },
    {
      "cell_type": "markdown",
      "metadata": {
        "id": "4tNorcgoxKq3"
      },
      "source": [
        "https://www.researchgate.net/publication/361293348_An_Overview_of_RSA_and_OAEP_Padding"
      ]
    },
    {
      "cell_type": "code",
      "execution_count": null,
      "metadata": {
        "colab": {
          "base_uri": "https://localhost:8080/"
        },
        "id": "pw5aAeNHVfjC",
        "outputId": "ac337664-ca41-457c-9ff2-93ffbec2a725"
      },
      "outputs": [
        {
          "name": "stdout",
          "output_type": "stream",
          "text": [
            "48c8947f69c054a5caa934674ce8881d02bb18fb59d5a63eeaddff735b0e9801e87294783281ae49fc8287a0fd86779b27d7972d3e84f0fa0d826d7cb67dfefc\n",
            "48c8947f69c054a5caa934674ce8881d02bb18fb59d5a63eeaddff735b0e9801e87294783281ae49fc8287a0fd86779b27d7972d3e84f0fa0d826d7cb67dfefc\n"
          ]
        }
      ],
      "source": [
        "h = sha3.hash_512(\"123\")\n",
        "print(h)\n",
        "h2 = sha3.hash_512(str(123))\n",
        "print(h2)"
      ]
    },
    {
      "cell_type": "markdown",
      "metadata": {
        "id": "z34lxvA7V6N9"
      },
      "source": [
        "### BASE64"
      ]
    },
    {
      "cell_type": "code",
      "execution_count": null,
      "metadata": {
        "id": "bCsYXNewV5EI"
      },
      "outputs": [],
      "source": [
        "import base64\n",
        "class base_convert:\n",
        "\n",
        "  #converte para base 64\n",
        "  @staticmethod\n",
        "  def format(message: int):\n",
        "    #Usa uma string de referencia\n",
        "    base64_chars = \"ABCDEFGHIJKLMNOPQRSTUVWXYZabcdefghijklmnopqrstuvwxyz0123456789+/\"\n",
        "    res = \"\"\n",
        "    #Enquanto a mensagem nao se tornar 0 realiza o metodo de divisoes sucessivas\n",
        "    while message > 0:\n",
        "      remainder = message % 64\n",
        "      res = base64_chars[remainder] + res\n",
        "      message = message // 64\n",
        "    return res\n",
        "\n",
        "\n",
        "  @staticmethod\n",
        "  def parse(base64_message: str):\n",
        "    #Tambem usa uma string de referebncia\n",
        "    base64_chars = \"ABCDEFGHIJKLMNOPQRSTUVWXYZabcdefghijklmnopqrstuvwxyz0123456789+/\"\n",
        "    res = 0\n",
        "    # procura o caracter encontrado na string e coloca e soma com o resultado multiplicado por 64\n",
        "    # essa multiplicacao por 64 fara com que os termos sejam multiplicados por 64 o numero correto de vezes\n",
        "    for char in base64_message:\n",
        "      res = res * 64 + base64_chars.index(char)\n",
        "    return res\n",
        "\n"
      ]
    },
    {
      "cell_type": "code",
      "execution_count": null,
      "metadata": {
        "colab": {
          "base_uri": "https://localhost:8080/"
        },
        "id": "9PURfvVMne9x",
        "outputId": "64cabfb4-d19f-41cf-b43c-b7588e2b68c0"
      },
      "outputs": [
        {
          "name": "stdout",
          "output_type": "stream",
          "text": [
            "TS\n",
            "1234\n"
          ]
        }
      ],
      "source": [
        "v = base_convert.format(1234)\n",
        "print(v)\n",
        "print(base_convert.parse(v))"
      ]
    },
    {
      "cell_type": "markdown",
      "metadata": {
        "id": "R8VHDCRSf1Jr"
      },
      "source": [
        "##Verificação de Assinatura"
      ]
    },
    {
      "cell_type": "code",
      "execution_count": null,
      "metadata": {
        "colab": {
          "base_uri": "https://localhost:8080/"
        },
        "id": "hiaLDst-aMM1",
        "outputId": "17610db2-bc4c-4b64-f72d-79412e1e83f1"
      },
      "outputs": [
        {
          "name": "stdout",
          "output_type": "stream",
          "text": [
            "Mensagem codificada em base64: DuryaemY6uti7m/EZKpLlmb5DYJ9QTcF4I7Cw3Vs4SYeFpLt7gDw47JecvGhYs+LNSgqgEebyIdMUN9+ooCIrOOuZwLBQEzI6quxh0gh1TRVRuquwbNlXpLAqRLtBMHwLrFpQNhfbe1c7WCfw7958YjmBfScfd7/wYrXXOLEun1ufiFbdyGZAg65HsCASEAV1N8sMzSQyFlpvvlTATkGpkgJhahJtXRSi13Pb/NIavBZq9APxh4IEZFvZ8QHLaKydTiLdASNE5AnNkqXpRJ524oy4uDv3oEEzOsilXa5ryXyp0KTBJ8ddpX47OSVunZLNw29rLP+fI1J3jbys5CgnMu2\n",
            "Hash original: 13294218810688930431017767851312097404577190160289829381938228660609088934899\n",
            "Hash decodificado: 13294218810688930431017767851312097404577190160289829381938228660609088934899\n",
            "Verificação de assinatura: True\n"
          ]
        }
      ],
      "source": [
        "# Instanciação da classe RSA\n",
        "cy = rsa()\n",
        "\n",
        "plain_text = 1234\n",
        "\n",
        "# Calculo do hash 256 da mensagem\n",
        "h = int(sha3.hash_256(str(plain_text)), 16)\n",
        "\n",
        "# Encryptação desse hash\n",
        "e = cy.encrypt(h)\n",
        "\n",
        "# Concatenação entre plain_text e o hash encriptado\n",
        "message_to_encode = str(plain_text) + str(e)\n",
        "\n",
        "# Conversão para a Base64\n",
        "encoded_message = base_convert.format(int(message_to_encode))\n",
        "\n",
        "print(\"Mensagem codificada em base64:\", encoded_message)\n",
        "\n",
        "# Parse da base64\n",
        "decoded_message = str(base_convert.parse(encoded_message))\n",
        "\n",
        "# Separação entre o plain_text e o hash encriptado\n",
        "decoded_plain_text = decoded_message[:len(str(plain_text))]\n",
        "\n",
        "encrypted_hash = decoded_message[len(str(plain_text)):]\n",
        "\n",
        "# Decryptação do hash encriptado\n",
        "decrypted_hash = cy.decrypt(int(encrypted_hash))\n",
        "\n",
        "# Comparação entre os hashs para verificação da assinatura\n",
        "print(\"Hash original:\", h)\n",
        "print(\"Hash decodificado:\", decrypted_hash)\n",
        "print(\"Verificação de assinatura:\", int(decrypted_hash) == h)"
      ]
    }
  ],
  "metadata": {
    "colab": {
      "collapsed_sections": [
        "pMmfCWthUb79",
        "EWo77-OPUgr_",
        "wVQV9v5AqKGM",
        "gPLTa-VJp--V",
        "z34lxvA7V6N9"
      ],
      "provenance": [],
      "toc_visible": true
    },
    "kernelspec": {
      "display_name": "Python 3",
      "name": "python3"
    },
    "language_info": {
      "name": "python"
    }
  },
  "nbformat": 4,
  "nbformat_minor": 0
}
